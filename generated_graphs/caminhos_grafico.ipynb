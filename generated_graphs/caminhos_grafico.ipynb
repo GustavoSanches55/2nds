{
 "cells": [
  {
   "cell_type": "code",
   "execution_count": 526,
   "metadata": {},
   "outputs": [],
   "source": [
    "import altair as alt\n",
    "import pandas as pd\n",
    "import sqlite3"
   ]
  },
  {
   "cell_type": "code",
   "execution_count": 527,
   "metadata": {},
   "outputs": [],
   "source": [
    "id_disciplina = 1\n",
    "id_professor = 3"
   ]
  },
  {
   "cell_type": "code",
   "execution_count": 528,
   "metadata": {},
   "outputs": [
    {
     "name": "stdout",
     "output_type": "stream",
     "text": [
      "Oi\n"
     ]
    }
   ],
   "source": [
    "print(\"Oi\")"
   ]
  },
  {
   "cell_type": "code",
   "execution_count": 529,
   "metadata": {},
   "outputs": [],
   "source": [
    "conn = sqlite3.connect('../silvia/db.sqlite3')\n",
    "cur = conn.cursor()"
   ]
  },
  {
   "cell_type": "code",
   "execution_count": 530,
   "metadata": {},
   "outputs": [],
   "source": [
    "query = f\"\"\"\n",
    "SELECT\n",
    "    a.id AS id_avaliacao, \n",
    "    s.carater , \n",
    "    a.intensidade, \n",
    "    d.id AS id_disciplina,\n",
    "    p.id AS id_professor,\n",
    "    p.nome_professor,\n",
    "    assunto.id AS id_assunto,\n",
    "    assunto.nome_assunto,\n",
    "    t.id AS id_turma,\n",
    "    t.curso,\n",
    "    t.periodo,\n",
    "    t.tag,\n",
    "    a.data,\n",
    "    a.conhecimento\n",
    "\n",
    "FROM base_avaliacao AS a\n",
    "INNER JOIN base_sentimentos AS s\n",
    "ON a.id_sentimento_id = s.id\n",
    "\n",
    "INNER JOIN base_disciplina as d\n",
    "ON a.id_disciplina_id = d.id\n",
    "\n",
    "INNER JOIN base_professor as p\n",
    "ON d.id_professor_id = p.id\n",
    "\n",
    "INNER JOIN base_assunto AS assunto\n",
    "ON d.id_assunto_id = assunto.id\n",
    "\n",
    "INNER JOIN base_turma AS t\n",
    "ON d.id_turma_id = t.id\n",
    "\n",
    "WHERE d.id={id_disciplina} \n",
    "        AND p.id={id_professor}\n",
    ";\n",
    "\"\"\"\n",
    "\n",
    "grafico_barras = pd.read_sql_query(query, conn)"
   ]
  },
  {
   "cell_type": "markdown",
   "metadata": {},
   "source": [
    "## 1 Grafico de barras"
   ]
  },
  {
   "cell_type": "code",
   "execution_count": 531,
   "metadata": {},
   "outputs": [],
   "source": [
    "query = f\"\"\"\n",
    "SELECT\n",
    "    a.id AS id_avaliacao, \n",
    "    s.carater , \n",
    "    a.intensidade, \n",
    "    d.id AS id_disciplina,\n",
    "    p.id AS id_professor,\n",
    "    p.nome_professor,\n",
    "    assunto.id AS id_assunto,\n",
    "    assunto.nome_assunto,\n",
    "    t.id AS id_turma,\n",
    "    t.curso,\n",
    "    t.periodo,\n",
    "    t.tag,\n",
    "    a.data,\n",
    "    a.conhecimento\n",
    "\n",
    "FROM base_avaliacao AS a\n",
    "INNER JOIN base_sentimentos AS s\n",
    "ON a.id_sentimento_id = s.id\n",
    "\n",
    "INNER JOIN base_disciplina as d\n",
    "ON a.id_disciplina_id = d.id\n",
    "\n",
    "INNER JOIN base_professor as p\n",
    "ON d.id_professor_id = p.id\n",
    "\n",
    "INNER JOIN base_assunto AS assunto\n",
    "ON d.id_assunto_id = assunto.id\n",
    "\n",
    "INNER JOIN base_turma AS t\n",
    "ON d.id_turma_id = t.id\n",
    "\n",
    "WHERE d.id={id_disciplina} \n",
    "        AND p.id={id_professor}\n",
    ";\n",
    "\"\"\"\n",
    "\n",
    "grafico_barras = pd.read_sql_query(query, conn)"
   ]
  },
  {
   "cell_type": "code",
   "execution_count": 532,
   "metadata": {},
   "outputs": [],
   "source": [
    "colors = {\"disposto-bom\": '#A9CF54', 'disposto-ruim': '#F1433F', 'indisposto-bom': '#F7E967', 'indisposto-ruim': '#70B7BA'}\n",
    "grafico_barras['color'] = grafico_barras['carater'].map(colors)\n",
    "\n",
    "bar_graph = alt.Chart(grafico_barras.groupby(['color', 'carater']).sum().reset_index()).mark_bar().encode(\n",
    "    alt.X('carater:N',sort='y'),\n",
    "    alt.Y('intensidade:Q'),\n",
    "    color=alt.Color('color:N', scale=None)\n",
    ").properties(\n",
    "    width=alt.Step(80)\n",
    ")\n",
    "\n",
    "bar_graph.save('grafico_barras.html', embed_options={'renderer':'svg'})"
   ]
  },
  {
   "cell_type": "markdown",
   "metadata": {},
   "source": [
    "## 2 grafico de linha"
   ]
  },
  {
   "cell_type": "code",
   "execution_count": 533,
   "metadata": {},
   "outputs": [],
   "source": [
    "id_disciplina = 1\n",
    "id_professor = 3"
   ]
  },
  {
   "cell_type": "code",
   "execution_count": 534,
   "metadata": {},
   "outputs": [],
   "source": [
    "query = f\"\"\"\n",
    "SELECT\n",
    "    a.id AS id_avaliacao, \n",
    "    s.carater , \n",
    "    a.intensidade, \n",
    "    d.id AS id_disciplina,\n",
    "    p.id AS id_professor,\n",
    "    p.nome_professor,\n",
    "    assunto.id AS id_assunto,\n",
    "    assunto.nome_assunto,\n",
    "    t.id AS id_turma,\n",
    "    t.curso,\n",
    "    t.periodo,\n",
    "    t.tag,\n",
    "    a.data,\n",
    "    a.conhecimento\n",
    "\n",
    "FROM base_avaliacao AS a\n",
    "INNER JOIN base_sentimentos AS s\n",
    "ON a.id_sentimento_id = s.id\n",
    "\n",
    "INNER JOIN base_disciplina as d\n",
    "ON a.id_disciplina_id = d.id\n",
    "\n",
    "INNER JOIN base_professor as p\n",
    "ON d.id_professor_id = p.id\n",
    "\n",
    "INNER JOIN base_assunto AS assunto\n",
    "ON d.id_assunto_id = assunto.id\n",
    "\n",
    "INNER JOIN base_turma AS t\n",
    "ON d.id_turma_id = t.id\n",
    "\n",
    "WHERE d.id={id_disciplina} \n",
    "        AND p.id={id_professor}\n",
    ";\n",
    "\"\"\"\n",
    "grafico_linhas = pd.read_sql_query(query, conn)"
   ]
  },
  {
   "cell_type": "code",
   "execution_count": 535,
   "metadata": {},
   "outputs": [
    {
     "name": "stderr",
     "output_type": "stream",
     "text": [
      "c:\\Users\\raull\\AppData\\Local\\Programs\\Python\\Python39\\lib\\site-packages\\pandas\\core\\indexing.py:1732: SettingWithCopyWarning: \n",
      "A value is trying to be set on a copy of a slice from a DataFrame\n",
      "\n",
      "See the caveats in the documentation: https://pandas.pydata.org/pandas-docs/stable/user_guide/indexing.html#returning-a-view-versus-a-copy\n",
      "  self._setitem_single_block(indexer, value, name)\n"
     ]
    }
   ],
   "source": [
    "for i in range(len(grafico_linhas)):\n",
    "    if ('ruim' in grafico_linhas['carater'].loc[i]):\n",
    "        grafico_linhas['intensidade'].loc[i] = (grafico_linhas['intensidade'].loc[i])*-1"
   ]
  },
  {
   "cell_type": "code",
   "execution_count": 536,
   "metadata": {},
   "outputs": [
    {
     "data": {
      "text/html": [
       "<div>\n",
       "<style scoped>\n",
       "    .dataframe tbody tr th:only-of-type {\n",
       "        vertical-align: middle;\n",
       "    }\n",
       "\n",
       "    .dataframe tbody tr th {\n",
       "        vertical-align: top;\n",
       "    }\n",
       "\n",
       "    .dataframe thead th {\n",
       "        text-align: right;\n",
       "    }\n",
       "</style>\n",
       "<table border=\"1\" class=\"dataframe\">\n",
       "  <thead>\n",
       "    <tr style=\"text-align: right;\">\n",
       "      <th></th>\n",
       "      <th>data</th>\n",
       "      <th>id_avaliacao</th>\n",
       "      <th>intensidade</th>\n",
       "      <th>id_disciplina</th>\n",
       "      <th>id_professor</th>\n",
       "      <th>id_assunto</th>\n",
       "      <th>id_turma</th>\n",
       "      <th>periodo</th>\n",
       "      <th>conhecimento</th>\n",
       "    </tr>\n",
       "  </thead>\n",
       "  <tbody>\n",
       "    <tr>\n",
       "      <th>0</th>\n",
       "      <td>11/05/2022</td>\n",
       "      <td>3</td>\n",
       "      <td>-4</td>\n",
       "      <td>2</td>\n",
       "      <td>6</td>\n",
       "      <td>2</td>\n",
       "      <td>2</td>\n",
       "      <td>16</td>\n",
       "      <td>3</td>\n",
       "    </tr>\n",
       "    <tr>\n",
       "      <th>1</th>\n",
       "      <td>12/05/2022</td>\n",
       "      <td>7</td>\n",
       "      <td>2</td>\n",
       "      <td>2</td>\n",
       "      <td>6</td>\n",
       "      <td>2</td>\n",
       "      <td>2</td>\n",
       "      <td>16</td>\n",
       "      <td>7</td>\n",
       "    </tr>\n",
       "  </tbody>\n",
       "</table>\n",
       "</div>"
      ],
      "text/plain": [
       "         data  id_avaliacao  intensidade  id_disciplina  id_professor  \\\n",
       "0  11/05/2022             3           -4              2             6   \n",
       "1  12/05/2022             7            2              2             6   \n",
       "\n",
       "   id_assunto  id_turma  periodo  conhecimento  \n",
       "0           2         2       16             3  \n",
       "1           2         2       16             7  "
      ]
     },
     "execution_count": 536,
     "metadata": {},
     "output_type": "execute_result"
    }
   ],
   "source": [
    "grafico_linhas.groupby(['data']).sum().reset_index().head(2)"
   ]
  },
  {
   "cell_type": "code",
   "execution_count": 537,
   "metadata": {},
   "outputs": [
    {
     "name": "stdout",
     "output_type": "stream",
     "text": [
      "<class 'pandas.core.frame.DataFrame'>\n",
      "RangeIndex: 24 entries, 0 to 23\n",
      "Data columns (total 14 columns):\n",
      " #   Column          Non-Null Count  Dtype         \n",
      "---  ------          --------------  -----         \n",
      " 0   id_avaliacao    24 non-null     int64         \n",
      " 1   carater         24 non-null     object        \n",
      " 2   intensidade     24 non-null     int64         \n",
      " 3   id_disciplina   24 non-null     int64         \n",
      " 4   id_professor    24 non-null     int64         \n",
      " 5   nome_professor  24 non-null     object        \n",
      " 6   id_assunto      24 non-null     int64         \n",
      " 7   nome_assunto    24 non-null     object        \n",
      " 8   id_turma        24 non-null     int64         \n",
      " 9   curso           24 non-null     object        \n",
      " 10  periodo         24 non-null     int64         \n",
      " 11  tag             24 non-null     object        \n",
      " 12  data            24 non-null     datetime64[ns]\n",
      " 13  conhecimento    24 non-null     int64         \n",
      "dtypes: datetime64[ns](1), int64(8), object(5)\n",
      "memory usage: 2.8+ KB\n"
     ]
    }
   ],
   "source": [
    "# convert data into a datetime column\n",
    "grafico_linhas['data'] = pd.to_datetime(grafico_linhas['data'], format='%d/%m/%Y')\n",
    "grafico_linhas.info()"
   ]
  },
  {
   "cell_type": "code",
   "execution_count": 538,
   "metadata": {},
   "outputs": [
    {
     "data": {
      "text/html": [
       "\n",
       "<div id=\"altair-viz-cadec02c54554698aaa5ecb9a9382f63\"></div>\n",
       "<script type=\"text/javascript\">\n",
       "  var VEGA_DEBUG = (typeof VEGA_DEBUG == \"undefined\") ? {} : VEGA_DEBUG;\n",
       "  (function(spec, embedOpt){\n",
       "    let outputDiv = document.currentScript.previousElementSibling;\n",
       "    if (outputDiv.id !== \"altair-viz-cadec02c54554698aaa5ecb9a9382f63\") {\n",
       "      outputDiv = document.getElementById(\"altair-viz-cadec02c54554698aaa5ecb9a9382f63\");\n",
       "    }\n",
       "    const paths = {\n",
       "      \"vega\": \"https://cdn.jsdelivr.net/npm//vega@5?noext\",\n",
       "      \"vega-lib\": \"https://cdn.jsdelivr.net/npm//vega-lib?noext\",\n",
       "      \"vega-lite\": \"https://cdn.jsdelivr.net/npm//vega-lite@4.17.0?noext\",\n",
       "      \"vega-embed\": \"https://cdn.jsdelivr.net/npm//vega-embed@6?noext\",\n",
       "    };\n",
       "\n",
       "    function maybeLoadScript(lib, version) {\n",
       "      var key = `${lib.replace(\"-\", \"\")}_version`;\n",
       "      return (VEGA_DEBUG[key] == version) ?\n",
       "        Promise.resolve(paths[lib]) :\n",
       "        new Promise(function(resolve, reject) {\n",
       "          var s = document.createElement('script');\n",
       "          document.getElementsByTagName(\"head\")[0].appendChild(s);\n",
       "          s.async = true;\n",
       "          s.onload = () => {\n",
       "            VEGA_DEBUG[key] = version;\n",
       "            return resolve(paths[lib]);\n",
       "          };\n",
       "          s.onerror = () => reject(`Error loading script: ${paths[lib]}`);\n",
       "          s.src = paths[lib];\n",
       "        });\n",
       "    }\n",
       "\n",
       "    function showError(err) {\n",
       "      outputDiv.innerHTML = `<div class=\"error\" style=\"color:red;\">${err}</div>`;\n",
       "      throw err;\n",
       "    }\n",
       "\n",
       "    function displayChart(vegaEmbed) {\n",
       "      vegaEmbed(outputDiv, spec, embedOpt)\n",
       "        .catch(err => showError(`Javascript Error: ${err.message}<br>This usually means there's a typo in your chart specification. See the javascript console for the full traceback.`));\n",
       "    }\n",
       "\n",
       "    if(typeof define === \"function\" && define.amd) {\n",
       "      requirejs.config({paths});\n",
       "      require([\"vega-embed\"], displayChart, err => showError(`Error loading script: ${err.message}`));\n",
       "    } else {\n",
       "      maybeLoadScript(\"vega\", \"5\")\n",
       "        .then(() => maybeLoadScript(\"vega-lite\", \"4.17.0\"))\n",
       "        .then(() => maybeLoadScript(\"vega-embed\", \"6\"))\n",
       "        .catch(showError)\n",
       "        .then(() => displayChart(vegaEmbed));\n",
       "    }\n",
       "  })({\"config\": {\"view\": {\"continuousWidth\": 400, \"continuousHeight\": 300}}, \"data\": {\"name\": \"data-fa03bac2aee139e8d1a5e6c65585b8ce\"}, \"mark\": \"bar\", \"encoding\": {\"color\": {\"condition\": {\"value\": \"#A9CF54\", \"test\": \"(datum.intensidade > 0)\"}, \"value\": \"#F1433F\"}, \"x\": {\"axis\": {\"format\": \"%d/%m/%Y\"}, \"field\": \"data\", \"title\": \"Data\", \"type\": \"temporal\"}, \"y\": {\"field\": \"intensidade\", \"type\": \"quantitative\"}}, \"$schema\": \"https://vega.github.io/schema/vega-lite/v4.17.0.json\", \"datasets\": {\"data-fa03bac2aee139e8d1a5e6c65585b8ce\": [{\"data\": \"2022-05-11T00:00:00\", \"id_avaliacao\": 1.5, \"intensidade\": -2.0, \"id_disciplina\": 1.0, \"id_professor\": 3.0, \"id_assunto\": 1.0, \"id_turma\": 1.0, \"periodo\": 8.0, \"conhecimento\": 1.5}, {\"data\": \"2022-05-12T00:00:00\", \"id_avaliacao\": 3.5, \"intensidade\": 1.0, \"id_disciplina\": 1.0, \"id_professor\": 3.0, \"id_assunto\": 1.0, \"id_turma\": 1.0, \"periodo\": 8.0, \"conhecimento\": 3.5}, {\"data\": \"2022-05-13T00:00:00\", \"id_avaliacao\": 5.5, \"intensidade\": -2.0, \"id_disciplina\": 1.0, \"id_professor\": 3.0, \"id_assunto\": 1.0, \"id_turma\": 1.0, \"periodo\": 8.0, \"conhecimento\": 5.5}, {\"data\": \"2022-05-14T00:00:00\", \"id_avaliacao\": 7.5, \"intensidade\": -1.0, \"id_disciplina\": 1.0, \"id_professor\": 3.0, \"id_assunto\": 1.0, \"id_turma\": 1.0, \"periodo\": 8.0, \"conhecimento\": 7.5}, {\"data\": \"2022-05-15T00:00:00\", \"id_avaliacao\": 9.0, \"intensidade\": 1.0, \"id_disciplina\": 1.0, \"id_professor\": 3.0, \"id_assunto\": 1.0, \"id_turma\": 1.0, \"periodo\": 8.0, \"conhecimento\": 9.0}, {\"data\": \"2022-05-16T00:00:00\", \"id_avaliacao\": 10.5, \"intensidade\": 1.0, \"id_disciplina\": 1.0, \"id_professor\": 3.0, \"id_assunto\": 1.0, \"id_turma\": 1.0, \"periodo\": 8.0, \"conhecimento\": 3.5}, {\"data\": \"2022-05-17T00:00:00\", \"id_avaliacao\": 12.5, \"intensidade\": 2.5, \"id_disciplina\": 1.0, \"id_professor\": 3.0, \"id_assunto\": 1.0, \"id_turma\": 1.0, \"periodo\": 8.0, \"conhecimento\": 8.5}, {\"data\": \"2022-05-18T00:00:00\", \"id_avaliacao\": 14.5, \"intensidade\": 1.5, \"id_disciplina\": 1.0, \"id_professor\": 3.0, \"id_assunto\": 1.0, \"id_turma\": 1.0, \"periodo\": 8.0, \"conhecimento\": 7.5}, {\"data\": \"2022-05-19T00:00:00\", \"id_avaliacao\": 16.5, \"intensidade\": 3.5, \"id_disciplina\": 1.0, \"id_professor\": 3.0, \"id_assunto\": 1.0, \"id_turma\": 1.0, \"periodo\": 8.0, \"conhecimento\": 8.0}, {\"data\": \"2022-05-20T00:00:00\", \"id_avaliacao\": 18.5, \"intensidade\": 2.5, \"id_disciplina\": 1.0, \"id_professor\": 3.0, \"id_assunto\": 1.0, \"id_turma\": 1.0, \"periodo\": 8.0, \"conhecimento\": 7.5}, {\"data\": \"2022-05-21T00:00:00\", \"id_avaliacao\": 20.5, \"intensidade\": -0.5, \"id_disciplina\": 1.0, \"id_professor\": 3.0, \"id_assunto\": 1.0, \"id_turma\": 1.0, \"periodo\": 8.0, \"conhecimento\": 8.5}, {\"data\": \"2022-05-22T00:00:00\", \"id_avaliacao\": 22.5, \"intensidade\": 0.5, \"id_disciplina\": 1.0, \"id_professor\": 3.0, \"id_assunto\": 1.0, \"id_turma\": 1.0, \"periodo\": 8.0, \"conhecimento\": 8.0}, {\"data\": \"2022-05-23T00:00:00\", \"id_avaliacao\": 24.0, \"intensidade\": -2.0, \"id_disciplina\": 1.0, \"id_professor\": 3.0, \"id_assunto\": 1.0, \"id_turma\": 1.0, \"periodo\": 8.0, \"conhecimento\": 1.0}]}}, {\"mode\": \"vega-lite\"});\n",
       "</script>"
      ],
      "text/plain": [
       "alt.Chart(...)"
      ]
     },
     "execution_count": 538,
     "metadata": {},
     "output_type": "execute_result"
    }
   ],
   "source": [
    "alt.Chart(grafico_linhas.groupby(['data']).mean().reset_index()).mark_bar().encode(\n",
    "    alt.X('data:T', title='Data', axis=alt.Axis(format='%d/%m/%Y')),\n",
    "    alt.Y('intensidade:Q'),\n",
    "    color=alt.condition(\n",
    "        alt.datum.intensidade > 0,\n",
    "        alt.value('#A9CF54'),\n",
    "        alt.value('#F1433F')\n",
    "    )\n",
    ")"
   ]
  },
  {
   "cell_type": "markdown",
   "metadata": {},
   "source": [
    "____________"
   ]
  },
  {
   "cell_type": "markdown",
   "metadata": {},
   "source": [
    "## 3) histograma"
   ]
  },
  {
   "cell_type": "code",
   "execution_count": 539,
   "metadata": {},
   "outputs": [
    {
     "data": {
      "text/html": [
       "<div>\n",
       "<style scoped>\n",
       "    .dataframe tbody tr th:only-of-type {\n",
       "        vertical-align: middle;\n",
       "    }\n",
       "\n",
       "    .dataframe tbody tr th {\n",
       "        vertical-align: top;\n",
       "    }\n",
       "\n",
       "    .dataframe thead th {\n",
       "        text-align: right;\n",
       "    }\n",
       "</style>\n",
       "<table border=\"1\" class=\"dataframe\">\n",
       "  <thead>\n",
       "    <tr style=\"text-align: right;\">\n",
       "      <th></th>\n",
       "      <th>id_avaliacao</th>\n",
       "      <th>carater</th>\n",
       "      <th>intensidade</th>\n",
       "      <th>id_disciplina</th>\n",
       "      <th>id_professor</th>\n",
       "      <th>nome_professor</th>\n",
       "      <th>id_assunto</th>\n",
       "      <th>nome_assunto</th>\n",
       "      <th>id_turma</th>\n",
       "      <th>curso</th>\n",
       "      <th>periodo</th>\n",
       "      <th>tag</th>\n",
       "      <th>data</th>\n",
       "      <th>conhecimento</th>\n",
       "    </tr>\n",
       "  </thead>\n",
       "  <tbody>\n",
       "    <tr>\n",
       "      <th>0</th>\n",
       "      <td>1</td>\n",
       "      <td>disposto-bom</td>\n",
       "      <td>1</td>\n",
       "      <td>1</td>\n",
       "      <td>3</td>\n",
       "      <td>Marcos</td>\n",
       "      <td>1</td>\n",
       "      <td>portugues</td>\n",
       "      <td>1</td>\n",
       "      <td>fundamental_1</td>\n",
       "      <td>8</td>\n",
       "      <td>B</td>\n",
       "      <td>11/05/2022</td>\n",
       "      <td>1</td>\n",
       "    </tr>\n",
       "    <tr>\n",
       "      <th>1</th>\n",
       "      <td>2</td>\n",
       "      <td>indisposto-ruim</td>\n",
       "      <td>5</td>\n",
       "      <td>1</td>\n",
       "      <td>3</td>\n",
       "      <td>Marcos</td>\n",
       "      <td>1</td>\n",
       "      <td>portugues</td>\n",
       "      <td>1</td>\n",
       "      <td>fundamental_1</td>\n",
       "      <td>8</td>\n",
       "      <td>B</td>\n",
       "      <td>11/05/2022</td>\n",
       "      <td>2</td>\n",
       "    </tr>\n",
       "  </tbody>\n",
       "</table>\n",
       "</div>"
      ],
      "text/plain": [
       "   id_avaliacao          carater  intensidade  id_disciplina  id_professor  \\\n",
       "0             1     disposto-bom            1              1             3   \n",
       "1             2  indisposto-ruim            5              1             3   \n",
       "\n",
       "  nome_professor  id_assunto nome_assunto  id_turma          curso  periodo  \\\n",
       "0         Marcos           1    portugues         1  fundamental_1        8   \n",
       "1         Marcos           1    portugues         1  fundamental_1        8   \n",
       "\n",
       "  tag        data  conhecimento  \n",
       "0   B  11/05/2022             1  \n",
       "1   B  11/05/2022             2  "
      ]
     },
     "execution_count": 539,
     "metadata": {},
     "output_type": "execute_result"
    }
   ],
   "source": [
    "query = f\"\"\"\n",
    "SELECT\n",
    "    a.id AS id_avaliacao, \n",
    "    s.carater , \n",
    "    a.intensidade, \n",
    "    d.id AS id_disciplina,\n",
    "    p.id AS id_professor,\n",
    "    p.nome_professor,\n",
    "    assunto.id AS id_assunto,\n",
    "    assunto.nome_assunto,\n",
    "    t.id AS id_turma,\n",
    "    t.curso,\n",
    "    t.periodo,\n",
    "    t.tag,\n",
    "    a.data,\n",
    "    a.conhecimento\n",
    "\n",
    "FROM base_avaliacao AS a\n",
    "INNER JOIN base_sentimentos AS s\n",
    "ON a.id_sentimento_id = s.id\n",
    "\n",
    "INNER JOIN base_disciplina as d\n",
    "ON a.id_disciplina_id = d.id\n",
    "\n",
    "INNER JOIN base_professor as p\n",
    "ON d.id_professor_id = p.id\n",
    "\n",
    "INNER JOIN base_assunto AS assunto\n",
    "ON d.id_assunto_id = assunto.id\n",
    "\n",
    "INNER JOIN base_turma AS t\n",
    "ON d.id_turma_id = t.id\n",
    "\n",
    "WHERE d.id={id_disciplina} \n",
    "        AND p.id={id_professor}\n",
    ";\n",
    "\"\"\"\n",
    "\n",
    "histograma = pd.read_sql_query(query, conn)\n",
    "histograma.head(2)"
   ]
  },
  {
   "cell_type": "code",
   "execution_count": 540,
   "metadata": {},
   "outputs": [],
   "source": [
    "histogram = alt.Chart(histograma,width=500, height=350).transform_joinaggregate(\n",
    "    total='count(*)'\n",
    ").transform_calculate(\n",
    "    pct='1 / datum.total'\n",
    ").mark_bar().encode(\n",
    "    alt.X('conhecimento:Q', bin=True, title='Conhecimento categorizado'),\n",
    "    alt.Y('sum(pct):Q', axis=alt.Axis(format='%'), title='porcentagem'),\n",
    ").configure_bar(\n",
    "    color = '#70B7BA'\n",
    ")\n",
    "\n",
    "# change the title of x and y axis\n",
    "histogram.save('histograma.html', embed_options={'renderer': 'svg'})"
   ]
  },
  {
   "cell_type": "code",
   "execution_count": null,
   "metadata": {},
   "outputs": [],
   "source": [
    "conn.commit()\n",
    "conn.close()"
   ]
  },
  {
   "cell_type": "code",
   "execution_count": null,
   "metadata": {},
   "outputs": [],
   "source": []
  }
 ],
 "metadata": {
  "kernelspec": {
   "display_name": "Python 3.9.6 64-bit",
   "language": "python",
   "name": "python3"
  },
  "language_info": {
   "codemirror_mode": {
    "name": "ipython",
    "version": 3
   },
   "file_extension": ".py",
   "mimetype": "text/x-python",
   "name": "python",
   "nbconvert_exporter": "python",
   "pygments_lexer": "ipython3",
   "version": "3.9.6"
  },
  "orig_nbformat": 4,
  "vscode": {
   "interpreter": {
    "hash": "635bd6fcff0719b5e635c9210df8bdc545e35528489fdb7b098dcbf4ba1a0a43"
   }
  }
 },
 "nbformat": 4,
 "nbformat_minor": 2
}
