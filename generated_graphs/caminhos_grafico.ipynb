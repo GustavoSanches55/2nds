{
 "cells": [
  {
   "cell_type": "code",
   "execution_count": 592,
   "metadata": {},
   "outputs": [],
   "source": [
    "import altair as alt\n",
    "import pandas as pd\n",
    "import sqlite3"
   ]
  },
  {
   "cell_type": "code",
   "execution_count": 593,
   "metadata": {},
   "outputs": [],
   "source": [
    "id_disciplina = 1\n",
    "id_professor = 3"
   ]
  },
  {
   "cell_type": "code",
   "execution_count": 594,
   "metadata": {},
   "outputs": [],
   "source": [
    "conn = sqlite3.connect('../silvia/db.sqlite3')\n",
    "cur = conn.cursor()"
   ]
  },
  {
   "cell_type": "markdown",
   "metadata": {},
   "source": [
    "## 1 Grafico de barras"
   ]
  },
  {
   "cell_type": "code",
   "execution_count": 595,
   "metadata": {},
   "outputs": [],
   "source": [
    "query = f\"\"\"\n",
    "SELECT\n",
    "    a.id AS id_avaliacao, \n",
    "    s.carater , \n",
    "    a.intensidade, \n",
    "    d.id AS id_disciplina,\n",
    "    p.id AS id_professor,\n",
    "    p.nome_professor,\n",
    "    assunto.id AS id_assunto,\n",
    "    assunto.nome_assunto,\n",
    "    t.id AS id_turma,\n",
    "    t.curso,\n",
    "    t.periodo,\n",
    "    t.tag,\n",
    "    a.data,\n",
    "    a.conhecimento\n",
    "\n",
    "FROM base_avaliacao AS a\n",
    "INNER JOIN base_sentimentos AS s\n",
    "ON a.id_sentimento_id = s.id\n",
    "\n",
    "INNER JOIN base_disciplina as d\n",
    "ON a.id_disciplina_id = d.id\n",
    "\n",
    "INNER JOIN base_professor as p\n",
    "ON d.id_professor_id = p.id\n",
    "\n",
    "INNER JOIN base_assunto AS assunto\n",
    "ON d.id_assunto_id = assunto.id\n",
    "\n",
    "INNER JOIN base_turma AS t\n",
    "ON d.id_turma_id = t.id\n",
    "\n",
    "WHERE d.id={id_disciplina} \n",
    "        AND p.id={id_professor}\n",
    ";\n",
    "\"\"\"\n",
    "\n",
    "grafico_barras = pd.read_sql_query(query, conn)"
   ]
  },
  {
   "cell_type": "code",
   "execution_count": 596,
   "metadata": {},
   "outputs": [
    {
     "data": {
      "text/html": [
       "\n",
       "<div id=\"altair-viz-10c0ebc34c914c47a7462a4505ecb3f1\"></div>\n",
       "<script type=\"text/javascript\">\n",
       "  var VEGA_DEBUG = (typeof VEGA_DEBUG == \"undefined\") ? {} : VEGA_DEBUG;\n",
       "  (function(spec, embedOpt){\n",
       "    let outputDiv = document.currentScript.previousElementSibling;\n",
       "    if (outputDiv.id !== \"altair-viz-10c0ebc34c914c47a7462a4505ecb3f1\") {\n",
       "      outputDiv = document.getElementById(\"altair-viz-10c0ebc34c914c47a7462a4505ecb3f1\");\n",
       "    }\n",
       "    const paths = {\n",
       "      \"vega\": \"https://cdn.jsdelivr.net/npm//vega@5?noext\",\n",
       "      \"vega-lib\": \"https://cdn.jsdelivr.net/npm//vega-lib?noext\",\n",
       "      \"vega-lite\": \"https://cdn.jsdelivr.net/npm//vega-lite@4.17.0?noext\",\n",
       "      \"vega-embed\": \"https://cdn.jsdelivr.net/npm//vega-embed@6?noext\",\n",
       "    };\n",
       "\n",
       "    function maybeLoadScript(lib, version) {\n",
       "      var key = `${lib.replace(\"-\", \"\")}_version`;\n",
       "      return (VEGA_DEBUG[key] == version) ?\n",
       "        Promise.resolve(paths[lib]) :\n",
       "        new Promise(function(resolve, reject) {\n",
       "          var s = document.createElement('script');\n",
       "          document.getElementsByTagName(\"head\")[0].appendChild(s);\n",
       "          s.async = true;\n",
       "          s.onload = () => {\n",
       "            VEGA_DEBUG[key] = version;\n",
       "            return resolve(paths[lib]);\n",
       "          };\n",
       "          s.onerror = () => reject(`Error loading script: ${paths[lib]}`);\n",
       "          s.src = paths[lib];\n",
       "        });\n",
       "    }\n",
       "\n",
       "    function showError(err) {\n",
       "      outputDiv.innerHTML = `<div class=\"error\" style=\"color:red;\">${err}</div>`;\n",
       "      throw err;\n",
       "    }\n",
       "\n",
       "    function displayChart(vegaEmbed) {\n",
       "      vegaEmbed(outputDiv, spec, embedOpt)\n",
       "        .catch(err => showError(`Javascript Error: ${err.message}<br>This usually means there's a typo in your chart specification. See the javascript console for the full traceback.`));\n",
       "    }\n",
       "\n",
       "    if(typeof define === \"function\" && define.amd) {\n",
       "      requirejs.config({paths});\n",
       "      require([\"vega-embed\"], displayChart, err => showError(`Error loading script: ${err.message}`));\n",
       "    } else {\n",
       "      maybeLoadScript(\"vega\", \"5\")\n",
       "        .then(() => maybeLoadScript(\"vega-lite\", \"4.17.0\"))\n",
       "        .then(() => maybeLoadScript(\"vega-embed\", \"6\"))\n",
       "        .catch(showError)\n",
       "        .then(() => displayChart(vegaEmbed));\n",
       "    }\n",
       "  })({\"config\": {\"view\": {\"continuousWidth\": 400, \"continuousHeight\": 300}}, \"data\": {\"name\": \"data-4e265de9a648353e41fb1f7164b269df\"}, \"mark\": \"bar\", \"encoding\": {\"color\": {\"field\": \"color\", \"scale\": null, \"type\": \"nominal\"}, \"x\": {\"field\": \"carater\", \"sort\": \"y\", \"type\": \"nominal\"}, \"y\": {\"field\": \"intensidade\", \"type\": \"quantitative\"}}, \"width\": {\"step\": 80}, \"$schema\": \"https://vega.github.io/schema/vega-lite/v4.17.0.json\", \"datasets\": {\"data-4e265de9a648353e41fb1f7164b269df\": [{\"color\": \"#70B7BA\", \"carater\": \"indisposto-ruim\", \"id_avaliacao\": 67, \"intensidade\": 17, \"id_disciplina\": 7, \"id_professor\": 21, \"id_assunto\": 7, \"id_turma\": 7, \"periodo\": 56, \"conhecimento\": 33}, {\"color\": \"#A9CF54\", \"carater\": \"disposto-bom\", \"id_avaliacao\": 79, \"intensidade\": 22, \"id_disciplina\": 7, \"id_professor\": 21, \"id_assunto\": 7, \"id_turma\": 7, \"periodo\": 56, \"conhecimento\": 38}, {\"color\": \"#F1433F\", \"carater\": \"disposto-ruim\", \"id_avaliacao\": 58, \"intensidade\": 9, \"id_disciplina\": 4, \"id_professor\": 12, \"id_assunto\": 4, \"id_turma\": 4, \"periodo\": 32, \"conhecimento\": 31}, {\"color\": \"#F7E967\", \"carater\": \"indisposto-bom\", \"id_avaliacao\": 96, \"intensidade\": 17, \"id_disciplina\": 6, \"id_professor\": 18, \"id_assunto\": 6, \"id_turma\": 6, \"periodo\": 48, \"conhecimento\": 47}]}}, {\"mode\": \"vega-lite\"});\n",
       "</script>"
      ],
      "text/plain": [
       "alt.Chart(...)"
      ]
     },
     "execution_count": 596,
     "metadata": {},
     "output_type": "execute_result"
    }
   ],
   "source": [
    "colors = {\"disposto-bom\": '#A9CF54', 'disposto-ruim': '#F1433F', 'indisposto-bom': '#F7E967', 'indisposto-ruim': '#70B7BA'}\n",
    "grafico_barras['color'] = grafico_barras['carater'].map(colors)\n",
    "\n",
    "bar_graph = alt.Chart(grafico_barras.groupby(['color', 'carater']).sum().reset_index()).mark_bar().encode(\n",
    "    alt.X('carater:N',sort='y'),\n",
    "    alt.Y('intensidade:Q'),\n",
    "    color=alt.Color('color:N', scale=None)\n",
    ").properties(\n",
    "    width=alt.Step(80)\n",
    ")\n",
    "\n",
    "bar_graph.save('grafico_barras.html', embed_options={'renderer':'svg'})\n",
    "bar_graph"
   ]
  },
  {
   "cell_type": "markdown",
   "metadata": {},
   "source": [
    "## 2 grafico de linha"
   ]
  },
  {
   "cell_type": "code",
   "execution_count": 597,
   "metadata": {},
   "outputs": [],
   "source": [
    "id_disciplina = 1\n",
    "id_professor = 3"
   ]
  },
  {
   "cell_type": "code",
   "execution_count": 598,
   "metadata": {},
   "outputs": [],
   "source": [
    "query = f\"\"\"\n",
    "SELECT\n",
    "    a.id AS id_avaliacao, \n",
    "    s.carater , \n",
    "    a.intensidade, \n",
    "    d.id AS id_disciplina,\n",
    "    p.id AS id_professor,\n",
    "    p.nome_professor,\n",
    "    assunto.id AS id_assunto,\n",
    "    assunto.nome_assunto,\n",
    "    t.id AS id_turma,\n",
    "    t.curso,\n",
    "    t.periodo,\n",
    "    t.tag,\n",
    "    a.data,\n",
    "    a.conhecimento\n",
    "\n",
    "FROM base_avaliacao AS a\n",
    "INNER JOIN base_sentimentos AS s\n",
    "ON a.id_sentimento_id = s.id\n",
    "\n",
    "INNER JOIN base_disciplina as d\n",
    "ON a.id_disciplina_id = d.id\n",
    "\n",
    "INNER JOIN base_professor as p\n",
    "ON d.id_professor_id = p.id\n",
    "\n",
    "INNER JOIN base_assunto AS assunto\n",
    "ON d.id_assunto_id = assunto.id\n",
    "\n",
    "INNER JOIN base_turma AS t\n",
    "ON d.id_turma_id = t.id\n",
    "\n",
    "WHERE d.id={id_disciplina} \n",
    "        AND p.id={id_professor}\n",
    ";\n",
    "\"\"\"\n",
    "grafico_linhas = pd.read_sql_query(query, conn)"
   ]
  },
  {
   "cell_type": "code",
   "execution_count": 599,
   "metadata": {},
   "outputs": [
    {
     "name": "stderr",
     "output_type": "stream",
     "text": [
      "c:\\Users\\raull\\AppData\\Local\\Programs\\Python\\Python39\\lib\\site-packages\\pandas\\core\\indexing.py:1732: SettingWithCopyWarning: \n",
      "A value is trying to be set on a copy of a slice from a DataFrame\n",
      "\n",
      "See the caveats in the documentation: https://pandas.pydata.org/pandas-docs/stable/user_guide/indexing.html#returning-a-view-versus-a-copy\n",
      "  self._setitem_single_block(indexer, value, name)\n"
     ]
    }
   ],
   "source": [
    "for i in range(len(grafico_linhas)):\n",
    "    if ('ruim' in grafico_linhas['carater'].loc[i]):\n",
    "        grafico_linhas['intensidade'].loc[i] = (grafico_linhas['intensidade'].loc[i])*-1"
   ]
  },
  {
   "cell_type": "code",
   "execution_count": 601,
   "metadata": {},
   "outputs": [],
   "source": [
    "# convert data into a datetime column\n",
    "grafico_linhas['data'] = pd.to_datetime(grafico_linhas['data'], format='%d/%m/%Y')"
   ]
  },
  {
   "cell_type": "code",
   "execution_count": 602,
   "metadata": {},
   "outputs": [
    {
     "data": {
      "text/html": [
       "\n",
       "<div id=\"altair-viz-5e01963da23943bd9bafa46f6e0ed2e8\"></div>\n",
       "<script type=\"text/javascript\">\n",
       "  var VEGA_DEBUG = (typeof VEGA_DEBUG == \"undefined\") ? {} : VEGA_DEBUG;\n",
       "  (function(spec, embedOpt){\n",
       "    let outputDiv = document.currentScript.previousElementSibling;\n",
       "    if (outputDiv.id !== \"altair-viz-5e01963da23943bd9bafa46f6e0ed2e8\") {\n",
       "      outputDiv = document.getElementById(\"altair-viz-5e01963da23943bd9bafa46f6e0ed2e8\");\n",
       "    }\n",
       "    const paths = {\n",
       "      \"vega\": \"https://cdn.jsdelivr.net/npm//vega@5?noext\",\n",
       "      \"vega-lib\": \"https://cdn.jsdelivr.net/npm//vega-lib?noext\",\n",
       "      \"vega-lite\": \"https://cdn.jsdelivr.net/npm//vega-lite@4.17.0?noext\",\n",
       "      \"vega-embed\": \"https://cdn.jsdelivr.net/npm//vega-embed@6?noext\",\n",
       "    };\n",
       "\n",
       "    function maybeLoadScript(lib, version) {\n",
       "      var key = `${lib.replace(\"-\", \"\")}_version`;\n",
       "      return (VEGA_DEBUG[key] == version) ?\n",
       "        Promise.resolve(paths[lib]) :\n",
       "        new Promise(function(resolve, reject) {\n",
       "          var s = document.createElement('script');\n",
       "          document.getElementsByTagName(\"head\")[0].appendChild(s);\n",
       "          s.async = true;\n",
       "          s.onload = () => {\n",
       "            VEGA_DEBUG[key] = version;\n",
       "            return resolve(paths[lib]);\n",
       "          };\n",
       "          s.onerror = () => reject(`Error loading script: ${paths[lib]}`);\n",
       "          s.src = paths[lib];\n",
       "        });\n",
       "    }\n",
       "\n",
       "    function showError(err) {\n",
       "      outputDiv.innerHTML = `<div class=\"error\" style=\"color:red;\">${err}</div>`;\n",
       "      throw err;\n",
       "    }\n",
       "\n",
       "    function displayChart(vegaEmbed) {\n",
       "      vegaEmbed(outputDiv, spec, embedOpt)\n",
       "        .catch(err => showError(`Javascript Error: ${err.message}<br>This usually means there's a typo in your chart specification. See the javascript console for the full traceback.`));\n",
       "    }\n",
       "\n",
       "    if(typeof define === \"function\" && define.amd) {\n",
       "      requirejs.config({paths});\n",
       "      require([\"vega-embed\"], displayChart, err => showError(`Error loading script: ${err.message}`));\n",
       "    } else {\n",
       "      maybeLoadScript(\"vega\", \"5\")\n",
       "        .then(() => maybeLoadScript(\"vega-lite\", \"4.17.0\"))\n",
       "        .then(() => maybeLoadScript(\"vega-embed\", \"6\"))\n",
       "        .catch(showError)\n",
       "        .then(() => displayChart(vegaEmbed));\n",
       "    }\n",
       "  })({\"config\": {\"view\": {\"continuousWidth\": 400, \"continuousHeight\": 300}}, \"data\": {\"name\": \"data-fa03bac2aee139e8d1a5e6c65585b8ce\"}, \"mark\": \"bar\", \"encoding\": {\"color\": {\"condition\": {\"value\": \"#A9CF54\", \"test\": \"(datum.intensidade > 0)\"}, \"value\": \"#F1433F\"}, \"x\": {\"axis\": {\"format\": \"%d/%m/%Y\"}, \"field\": \"data\", \"title\": \"Data\", \"type\": \"temporal\"}, \"y\": {\"field\": \"intensidade\", \"type\": \"quantitative\"}}, \"$schema\": \"https://vega.github.io/schema/vega-lite/v4.17.0.json\", \"datasets\": {\"data-fa03bac2aee139e8d1a5e6c65585b8ce\": [{\"data\": \"2022-05-11T00:00:00\", \"id_avaliacao\": 1.5, \"intensidade\": -2.0, \"id_disciplina\": 1.0, \"id_professor\": 3.0, \"id_assunto\": 1.0, \"id_turma\": 1.0, \"periodo\": 8.0, \"conhecimento\": 1.5}, {\"data\": \"2022-05-12T00:00:00\", \"id_avaliacao\": 3.5, \"intensidade\": 1.0, \"id_disciplina\": 1.0, \"id_professor\": 3.0, \"id_assunto\": 1.0, \"id_turma\": 1.0, \"periodo\": 8.0, \"conhecimento\": 3.5}, {\"data\": \"2022-05-13T00:00:00\", \"id_avaliacao\": 5.5, \"intensidade\": -2.0, \"id_disciplina\": 1.0, \"id_professor\": 3.0, \"id_assunto\": 1.0, \"id_turma\": 1.0, \"periodo\": 8.0, \"conhecimento\": 5.5}, {\"data\": \"2022-05-14T00:00:00\", \"id_avaliacao\": 7.5, \"intensidade\": -1.0, \"id_disciplina\": 1.0, \"id_professor\": 3.0, \"id_assunto\": 1.0, \"id_turma\": 1.0, \"periodo\": 8.0, \"conhecimento\": 7.5}, {\"data\": \"2022-05-15T00:00:00\", \"id_avaliacao\": 9.0, \"intensidade\": 1.0, \"id_disciplina\": 1.0, \"id_professor\": 3.0, \"id_assunto\": 1.0, \"id_turma\": 1.0, \"periodo\": 8.0, \"conhecimento\": 9.0}, {\"data\": \"2022-05-16T00:00:00\", \"id_avaliacao\": 10.5, \"intensidade\": 1.0, \"id_disciplina\": 1.0, \"id_professor\": 3.0, \"id_assunto\": 1.0, \"id_turma\": 1.0, \"periodo\": 8.0, \"conhecimento\": 3.5}, {\"data\": \"2022-05-17T00:00:00\", \"id_avaliacao\": 12.5, \"intensidade\": 2.5, \"id_disciplina\": 1.0, \"id_professor\": 3.0, \"id_assunto\": 1.0, \"id_turma\": 1.0, \"periodo\": 8.0, \"conhecimento\": 8.5}, {\"data\": \"2022-05-18T00:00:00\", \"id_avaliacao\": 14.5, \"intensidade\": 1.5, \"id_disciplina\": 1.0, \"id_professor\": 3.0, \"id_assunto\": 1.0, \"id_turma\": 1.0, \"periodo\": 8.0, \"conhecimento\": 7.5}, {\"data\": \"2022-05-19T00:00:00\", \"id_avaliacao\": 16.5, \"intensidade\": 3.5, \"id_disciplina\": 1.0, \"id_professor\": 3.0, \"id_assunto\": 1.0, \"id_turma\": 1.0, \"periodo\": 8.0, \"conhecimento\": 8.0}, {\"data\": \"2022-05-20T00:00:00\", \"id_avaliacao\": 18.5, \"intensidade\": 2.5, \"id_disciplina\": 1.0, \"id_professor\": 3.0, \"id_assunto\": 1.0, \"id_turma\": 1.0, \"periodo\": 8.0, \"conhecimento\": 7.5}, {\"data\": \"2022-05-21T00:00:00\", \"id_avaliacao\": 20.5, \"intensidade\": -0.5, \"id_disciplina\": 1.0, \"id_professor\": 3.0, \"id_assunto\": 1.0, \"id_turma\": 1.0, \"periodo\": 8.0, \"conhecimento\": 8.5}, {\"data\": \"2022-05-22T00:00:00\", \"id_avaliacao\": 22.5, \"intensidade\": 0.5, \"id_disciplina\": 1.0, \"id_professor\": 3.0, \"id_assunto\": 1.0, \"id_turma\": 1.0, \"periodo\": 8.0, \"conhecimento\": 8.0}, {\"data\": \"2022-05-23T00:00:00\", \"id_avaliacao\": 24.0, \"intensidade\": -2.0, \"id_disciplina\": 1.0, \"id_professor\": 3.0, \"id_assunto\": 1.0, \"id_turma\": 1.0, \"periodo\": 8.0, \"conhecimento\": 1.0}]}}, {\"mode\": \"vega-lite\"});\n",
       "</script>"
      ],
      "text/plain": [
       "alt.Chart(...)"
      ]
     },
     "execution_count": 602,
     "metadata": {},
     "output_type": "execute_result"
    }
   ],
   "source": [
    "avaliacao = alt.Chart(grafico_linhas.groupby(['data']).mean().reset_index()).mark_bar().encode(\n",
    "    alt.X('data:T', title='Data', axis=alt.Axis(format='%d/%m/%Y')),\n",
    "    alt.Y('intensidade:Q'),\n",
    "    color=alt.condition(\n",
    "        alt.datum.intensidade > 0,\n",
    "        alt.value('#A9CF54'),\n",
    "        alt.value('#F1433F')\n",
    "    )\n",
    ")\n",
    "avaliacao.save('avaliacao_tempo.html', embed_options={'renderer': 'svg'})\n",
    "avaliacao"
   ]
  },
  {
   "cell_type": "markdown",
   "metadata": {},
   "source": [
    "____________"
   ]
  },
  {
   "cell_type": "markdown",
   "metadata": {},
   "source": [
    "## 3) histograma"
   ]
  },
  {
   "cell_type": "code",
   "execution_count": 603,
   "metadata": {},
   "outputs": [],
   "source": [
    "query = f\"\"\"\n",
    "SELECT\n",
    "    a.id AS id_avaliacao, \n",
    "    s.carater , \n",
    "    a.intensidade, \n",
    "    d.id AS id_disciplina,\n",
    "    p.id AS id_professor,\n",
    "    p.nome_professor,\n",
    "    assunto.id AS id_assunto,\n",
    "    assunto.nome_assunto,\n",
    "    t.id AS id_turma,\n",
    "    t.curso,\n",
    "    t.periodo,\n",
    "    t.tag,\n",
    "    a.data,\n",
    "    a.conhecimento\n",
    "\n",
    "FROM base_avaliacao AS a\n",
    "INNER JOIN base_sentimentos AS s\n",
    "ON a.id_sentimento_id = s.id\n",
    "\n",
    "INNER JOIN base_disciplina as d\n",
    "ON a.id_disciplina_id = d.id\n",
    "\n",
    "INNER JOIN base_professor as p\n",
    "ON d.id_professor_id = p.id\n",
    "\n",
    "INNER JOIN base_assunto AS assunto\n",
    "ON d.id_assunto_id = assunto.id\n",
    "\n",
    "INNER JOIN base_turma AS t\n",
    "ON d.id_turma_id = t.id\n",
    "\n",
    "WHERE d.id={id_disciplina} \n",
    "        AND p.id={id_professor}\n",
    ";\n",
    "\"\"\"\n",
    "\n",
    "histograma = pd.read_sql_query(query, conn)\n"
   ]
  },
  {
   "cell_type": "code",
   "execution_count": 604,
   "metadata": {},
   "outputs": [
    {
     "data": {
      "text/html": [
       "\n",
       "<div id=\"altair-viz-5e546625fd8941fd935b364548586932\"></div>\n",
       "<script type=\"text/javascript\">\n",
       "  var VEGA_DEBUG = (typeof VEGA_DEBUG == \"undefined\") ? {} : VEGA_DEBUG;\n",
       "  (function(spec, embedOpt){\n",
       "    let outputDiv = document.currentScript.previousElementSibling;\n",
       "    if (outputDiv.id !== \"altair-viz-5e546625fd8941fd935b364548586932\") {\n",
       "      outputDiv = document.getElementById(\"altair-viz-5e546625fd8941fd935b364548586932\");\n",
       "    }\n",
       "    const paths = {\n",
       "      \"vega\": \"https://cdn.jsdelivr.net/npm//vega@5?noext\",\n",
       "      \"vega-lib\": \"https://cdn.jsdelivr.net/npm//vega-lib?noext\",\n",
       "      \"vega-lite\": \"https://cdn.jsdelivr.net/npm//vega-lite@4.17.0?noext\",\n",
       "      \"vega-embed\": \"https://cdn.jsdelivr.net/npm//vega-embed@6?noext\",\n",
       "    };\n",
       "\n",
       "    function maybeLoadScript(lib, version) {\n",
       "      var key = `${lib.replace(\"-\", \"\")}_version`;\n",
       "      return (VEGA_DEBUG[key] == version) ?\n",
       "        Promise.resolve(paths[lib]) :\n",
       "        new Promise(function(resolve, reject) {\n",
       "          var s = document.createElement('script');\n",
       "          document.getElementsByTagName(\"head\")[0].appendChild(s);\n",
       "          s.async = true;\n",
       "          s.onload = () => {\n",
       "            VEGA_DEBUG[key] = version;\n",
       "            return resolve(paths[lib]);\n",
       "          };\n",
       "          s.onerror = () => reject(`Error loading script: ${paths[lib]}`);\n",
       "          s.src = paths[lib];\n",
       "        });\n",
       "    }\n",
       "\n",
       "    function showError(err) {\n",
       "      outputDiv.innerHTML = `<div class=\"error\" style=\"color:red;\">${err}</div>`;\n",
       "      throw err;\n",
       "    }\n",
       "\n",
       "    function displayChart(vegaEmbed) {\n",
       "      vegaEmbed(outputDiv, spec, embedOpt)\n",
       "        .catch(err => showError(`Javascript Error: ${err.message}<br>This usually means there's a typo in your chart specification. See the javascript console for the full traceback.`));\n",
       "    }\n",
       "\n",
       "    if(typeof define === \"function\" && define.amd) {\n",
       "      requirejs.config({paths});\n",
       "      require([\"vega-embed\"], displayChart, err => showError(`Error loading script: ${err.message}`));\n",
       "    } else {\n",
       "      maybeLoadScript(\"vega\", \"5\")\n",
       "        .then(() => maybeLoadScript(\"vega-lite\", \"4.17.0\"))\n",
       "        .then(() => maybeLoadScript(\"vega-embed\", \"6\"))\n",
       "        .catch(showError)\n",
       "        .then(() => displayChart(vegaEmbed));\n",
       "    }\n",
       "  })({\"config\": {\"view\": {\"continuousWidth\": 400, \"continuousHeight\": 300}, \"bar\": {\"color\": \"#70B7BA\"}}, \"data\": {\"name\": \"data-db91623044fa9ed0406f7e0a5ac4cba9\"}, \"mark\": \"bar\", \"encoding\": {\"x\": {\"bin\": true, \"field\": \"conhecimento\", \"title\": \"Conhecimento categorizado\", \"type\": \"quantitative\"}, \"y\": {\"aggregate\": \"sum\", \"axis\": {\"format\": \"%\"}, \"field\": \"pct\", \"title\": \"porcentagem\", \"type\": \"quantitative\"}}, \"height\": 350, \"transform\": [{\"joinaggregate\": [{\"op\": \"count\", \"field\": \"*\", \"as\": \"total\"}]}, {\"calculate\": \"1 / datum.total\", \"as\": \"pct\"}], \"width\": 500, \"$schema\": \"https://vega.github.io/schema/vega-lite/v4.17.0.json\", \"datasets\": {\"data-db91623044fa9ed0406f7e0a5ac4cba9\": [{\"id_avaliacao\": 1, \"carater\": \"disposto-bom\", \"intensidade\": 1, \"id_disciplina\": 1, \"id_professor\": 3, \"nome_professor\": \"Marcos\", \"id_assunto\": 1, \"nome_assunto\": \"portugues\", \"id_turma\": 1, \"curso\": \"fundamental_1\", \"periodo\": 8, \"tag\": \"B\", \"data\": \"11/05/2022\", \"conhecimento\": 1}, {\"id_avaliacao\": 2, \"carater\": \"indisposto-ruim\", \"intensidade\": 5, \"id_disciplina\": 1, \"id_professor\": 3, \"nome_professor\": \"Marcos\", \"id_assunto\": 1, \"nome_assunto\": \"portugues\", \"id_turma\": 1, \"curso\": \"fundamental_1\", \"periodo\": 8, \"tag\": \"B\", \"data\": \"11/05/2022\", \"conhecimento\": 2}, {\"id_avaliacao\": 3, \"carater\": \"disposto-bom\", \"intensidade\": 3, \"id_disciplina\": 1, \"id_professor\": 3, \"nome_professor\": \"Marcos\", \"id_assunto\": 1, \"nome_assunto\": \"portugues\", \"id_turma\": 1, \"curso\": \"fundamental_1\", \"periodo\": 8, \"tag\": \"B\", \"data\": \"12/05/2022\", \"conhecimento\": 3}, {\"id_avaliacao\": 4, \"carater\": \"indisposto-ruim\", \"intensidade\": 1, \"id_disciplina\": 1, \"id_professor\": 3, \"nome_professor\": \"Marcos\", \"id_assunto\": 1, \"nome_assunto\": \"portugues\", \"id_turma\": 1, \"curso\": \"fundamental_1\", \"periodo\": 8, \"tag\": \"B\", \"data\": \"12/05/2022\", \"conhecimento\": 4}, {\"id_avaliacao\": 5, \"carater\": \"indisposto-ruim\", \"intensidade\": 2, \"id_disciplina\": 1, \"id_professor\": 3, \"nome_professor\": \"Marcos\", \"id_assunto\": 1, \"nome_assunto\": \"portugues\", \"id_turma\": 1, \"curso\": \"fundamental_1\", \"periodo\": 8, \"tag\": \"B\", \"data\": \"13/05/2022\", \"conhecimento\": 5}, {\"id_avaliacao\": 6, \"carater\": \"indisposto-ruim\", \"intensidade\": 2, \"id_disciplina\": 1, \"id_professor\": 3, \"nome_professor\": \"Marcos\", \"id_assunto\": 1, \"nome_assunto\": \"portugues\", \"id_turma\": 1, \"curso\": \"fundamental_1\", \"periodo\": 8, \"tag\": \"B\", \"data\": \"13/05/2022\", \"conhecimento\": 6}, {\"id_avaliacao\": 7, \"carater\": \"disposto-ruim\", \"intensidade\": 1, \"id_disciplina\": 1, \"id_professor\": 3, \"nome_professor\": \"Marcos\", \"id_assunto\": 1, \"nome_assunto\": \"portugues\", \"id_turma\": 1, \"curso\": \"fundamental_1\", \"periodo\": 8, \"tag\": \"B\", \"data\": \"14/05/2022\", \"conhecimento\": 7}, {\"id_avaliacao\": 8, \"carater\": \"disposto-ruim\", \"intensidade\": 1, \"id_disciplina\": 1, \"id_professor\": 3, \"nome_professor\": \"Marcos\", \"id_assunto\": 1, \"nome_assunto\": \"portugues\", \"id_turma\": 1, \"curso\": \"fundamental_1\", \"periodo\": 8, \"tag\": \"B\", \"data\": \"14/05/2022\", \"conhecimento\": 8}, {\"id_avaliacao\": 9, \"carater\": \"indisposto-bom\", \"intensidade\": 1, \"id_disciplina\": 1, \"id_professor\": 3, \"nome_professor\": \"Marcos\", \"id_assunto\": 1, \"nome_assunto\": \"portugues\", \"id_turma\": 1, \"curso\": \"fundamental_1\", \"periodo\": 8, \"tag\": \"B\", \"data\": \"15/05/2022\", \"conhecimento\": 9}, {\"id_avaliacao\": 10, \"carater\": \"disposto-bom\", \"intensidade\": 5, \"id_disciplina\": 1, \"id_professor\": 3, \"nome_professor\": \"Marcos\", \"id_assunto\": 1, \"nome_assunto\": \"portugues\", \"id_turma\": 1, \"curso\": \"fundamental_1\", \"periodo\": 8, \"tag\": \"B\", \"data\": \"16/05/2022\", \"conhecimento\": 0}, {\"id_avaliacao\": 11, \"carater\": \"indisposto-ruim\", \"intensidade\": 3, \"id_disciplina\": 1, \"id_professor\": 3, \"nome_professor\": \"Marcos\", \"id_assunto\": 1, \"nome_assunto\": \"portugues\", \"id_turma\": 1, \"curso\": \"fundamental_1\", \"periodo\": 8, \"tag\": \"B\", \"data\": \"16/05/2022\", \"conhecimento\": 7}, {\"id_avaliacao\": 12, \"carater\": \"disposto-bom\", \"intensidade\": 2, \"id_disciplina\": 1, \"id_professor\": 3, \"nome_professor\": \"Marcos\", \"id_assunto\": 1, \"nome_assunto\": \"portugues\", \"id_turma\": 1, \"curso\": \"fundamental_1\", \"periodo\": 8, \"tag\": \"B\", \"data\": \"17/05/2022\", \"conhecimento\": 8}, {\"id_avaliacao\": 13, \"carater\": \"indisposto-bom\", \"intensidade\": 3, \"id_disciplina\": 1, \"id_professor\": 3, \"nome_professor\": \"Marcos\", \"id_assunto\": 1, \"nome_assunto\": \"portugues\", \"id_turma\": 1, \"curso\": \"fundamental_1\", \"periodo\": 8, \"tag\": \"B\", \"data\": \"17/05/2022\", \"conhecimento\": 9}, {\"id_avaliacao\": 14, \"carater\": \"disposto-bom\", \"intensidade\": 5, \"id_disciplina\": 1, \"id_professor\": 3, \"nome_professor\": \"Marcos\", \"id_assunto\": 1, \"nome_assunto\": \"portugues\", \"id_turma\": 1, \"curso\": \"fundamental_1\", \"periodo\": 8, \"tag\": \"B\", \"data\": \"18/05/2022\", \"conhecimento\": 7}, {\"id_avaliacao\": 15, \"carater\": \"indisposto-ruim\", \"intensidade\": 2, \"id_disciplina\": 1, \"id_professor\": 3, \"nome_professor\": \"Marcos\", \"id_assunto\": 1, \"nome_assunto\": \"portugues\", \"id_turma\": 1, \"curso\": \"fundamental_1\", \"periodo\": 8, \"tag\": \"B\", \"data\": \"18/05/2022\", \"conhecimento\": 8}, {\"id_avaliacao\": 16, \"carater\": \"indisposto-bom\", \"intensidade\": 2, \"id_disciplina\": 1, \"id_professor\": 3, \"nome_professor\": \"Marcos\", \"id_assunto\": 1, \"nome_assunto\": \"portugues\", \"id_turma\": 1, \"curso\": \"fundamental_1\", \"periodo\": 8, \"tag\": \"B\", \"data\": \"19/05/2022\", \"conhecimento\": 10}, {\"id_avaliacao\": 17, \"carater\": \"indisposto-bom\", \"intensidade\": 5, \"id_disciplina\": 1, \"id_professor\": 3, \"nome_professor\": \"Marcos\", \"id_assunto\": 1, \"nome_assunto\": \"portugues\", \"id_turma\": 1, \"curso\": \"fundamental_1\", \"periodo\": 8, \"tag\": \"B\", \"data\": \"19/05/2022\", \"conhecimento\": 6}, {\"id_avaliacao\": 18, \"carater\": \"indisposto-bom\", \"intensidade\": 1, \"id_disciplina\": 1, \"id_professor\": 3, \"nome_professor\": \"Marcos\", \"id_assunto\": 1, \"nome_assunto\": \"portugues\", \"id_turma\": 1, \"curso\": \"fundamental_1\", \"periodo\": 8, \"tag\": \"B\", \"data\": \"20/05/2022\", \"conhecimento\": 5}, {\"id_avaliacao\": 19, \"carater\": \"disposto-bom\", \"intensidade\": 4, \"id_disciplina\": 1, \"id_professor\": 3, \"nome_professor\": \"Marcos\", \"id_assunto\": 1, \"nome_assunto\": \"portugues\", \"id_turma\": 1, \"curso\": \"fundamental_1\", \"periodo\": 8, \"tag\": \"B\", \"data\": \"20/05/2022\", \"conhecimento\": 10}, {\"id_avaliacao\": 20, \"carater\": \"disposto-bom\", \"intensidade\": 2, \"id_disciplina\": 1, \"id_professor\": 3, \"nome_professor\": \"Marcos\", \"id_assunto\": 1, \"nome_assunto\": \"portugues\", \"id_turma\": 1, \"curso\": \"fundamental_1\", \"periodo\": 8, \"tag\": \"B\", \"data\": \"21/05/2022\", \"conhecimento\": 9}, {\"id_avaliacao\": 21, \"carater\": \"disposto-ruim\", \"intensidade\": 3, \"id_disciplina\": 1, \"id_professor\": 3, \"nome_professor\": \"Marcos\", \"id_assunto\": 1, \"nome_assunto\": \"portugues\", \"id_turma\": 1, \"curso\": \"fundamental_1\", \"periodo\": 8, \"tag\": \"B\", \"data\": \"21/05/2022\", \"conhecimento\": 8}, {\"id_avaliacao\": 22, \"carater\": \"disposto-ruim\", \"intensidade\": 4, \"id_disciplina\": 1, \"id_professor\": 3, \"nome_professor\": \"Marcos\", \"id_assunto\": 1, \"nome_assunto\": \"portugues\", \"id_turma\": 1, \"curso\": \"fundamental_1\", \"periodo\": 8, \"tag\": \"B\", \"data\": \"22/05/2022\", \"conhecimento\": 8}, {\"id_avaliacao\": 23, \"carater\": \"indisposto-bom\", \"intensidade\": 5, \"id_disciplina\": 1, \"id_professor\": 3, \"nome_professor\": \"Marcos\", \"id_assunto\": 1, \"nome_assunto\": \"portugues\", \"id_turma\": 1, \"curso\": \"fundamental_1\", \"periodo\": 8, \"tag\": \"B\", \"data\": \"22/05/2022\", \"conhecimento\": 8}, {\"id_avaliacao\": 24, \"carater\": \"indisposto-ruim\", \"intensidade\": 2, \"id_disciplina\": 1, \"id_professor\": 3, \"nome_professor\": \"Marcos\", \"id_assunto\": 1, \"nome_assunto\": \"portugues\", \"id_turma\": 1, \"curso\": \"fundamental_1\", \"periodo\": 8, \"tag\": \"B\", \"data\": \"23/05/2022\", \"conhecimento\": 1}]}}, {\"mode\": \"vega-lite\"});\n",
       "</script>"
      ],
      "text/plain": [
       "alt.Chart(...)"
      ]
     },
     "execution_count": 604,
     "metadata": {},
     "output_type": "execute_result"
    }
   ],
   "source": [
    "histogram = alt.Chart(histograma,width=500, height=350).transform_joinaggregate(\n",
    "    total='count(*)'\n",
    ").transform_calculate(\n",
    "    pct='1 / datum.total'\n",
    ").mark_bar().encode(\n",
    "    alt.X('conhecimento:Q', bin=True, title='Conhecimento categorizado'),\n",
    "    alt.Y('sum(pct):Q', axis=alt.Axis(format='%'), title='porcentagem'),\n",
    ").configure_bar(\n",
    "    color = '#70B7BA'\n",
    ")\n",
    "\n",
    "# change the title of x and y axis\n",
    "histogram.save('histograma.html', embed_options={'renderer': 'svg'})\n",
    "histogram"
   ]
  },
  {
   "cell_type": "code",
   "execution_count": 605,
   "metadata": {},
   "outputs": [],
   "source": [
    "conn.commit()\n",
    "conn.close()"
   ]
  }
 ],
 "metadata": {
  "kernelspec": {
   "display_name": "Python 3.9.6 64-bit",
   "language": "python",
   "name": "python3"
  },
  "language_info": {
   "codemirror_mode": {
    "name": "ipython",
    "version": 3
   },
   "file_extension": ".py",
   "mimetype": "text/x-python",
   "name": "python",
   "nbconvert_exporter": "python",
   "pygments_lexer": "ipython3",
   "version": "3.9.6"
  },
  "orig_nbformat": 4,
  "vscode": {
   "interpreter": {
    "hash": "635bd6fcff0719b5e635c9210df8bdc545e35528489fdb7b098dcbf4ba1a0a43"
   }
  }
 },
 "nbformat": 4,
 "nbformat_minor": 2
}
