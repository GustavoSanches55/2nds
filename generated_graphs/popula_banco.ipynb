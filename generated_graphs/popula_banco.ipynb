{
 "cells": [
  {
   "cell_type": "code",
   "execution_count": 22,
   "metadata": {},
   "outputs": [],
   "source": [
    "import sqlite3\n",
    "import pandas as pd"
   ]
  },
  {
   "cell_type": "markdown",
   "metadata": {},
   "source": [
    "Cria conexão com o banco de dados"
   ]
  },
  {
   "cell_type": "code",
   "execution_count": 23,
   "metadata": {},
   "outputs": [],
   "source": [
    "conn = sqlite3.connect('../silvia/db.sqlite3')\n",
    "cur = conn.cursor()"
   ]
  },
  {
   "cell_type": "markdown",
   "metadata": {},
   "source": [
    "Deleta dados existentes\n"
   ]
  },
  {
   "cell_type": "code",
   "execution_count": 24,
   "metadata": {},
   "outputs": [
    {
     "data": {
      "text/plain": [
       "<sqlite3.Cursor at 0x262c870fc70>"
      ]
     },
     "execution_count": 24,
     "metadata": {},
     "output_type": "execute_result"
    }
   ],
   "source": [
    "cur.execute('DELETE FROM base_aluno')\n",
    "cur.execute('DELETE FROM base_professor')\n",
    "cur.execute('DELETE FROM base_assunto')\n",
    "cur.execute('DELETE FROM base_turma')\n",
    "cur.execute('DELETE FROM base_disciplina')\n",
    "cur.execute('DELETE FROM base_grade')\n",
    "cur.execute('DELETE FROM base_avaliacao')\n",
    "cur.execute('DELETE FROM base_sentimentos')\n",
    "cur.execute('DELETE FROM base_usuario')\n",
    "cur.execute('DELETE FROM base_instituicao')\n"
   ]
  },
  {
   "cell_type": "markdown",
   "metadata": {},
   "source": [
    "Le os arquivos que temos os dados ja criados\n"
   ]
  },
  {
   "cell_type": "code",
   "execution_count": 25,
   "metadata": {},
   "outputs": [],
   "source": [
    "aluno = pd.read_csv('../data/aluno.csv',sep=';')\n",
    "professor = pd.read_csv('../data/professor.csv',sep=';')\n",
    "assunto = pd.read_csv('../data/assunto.csv',sep=';')\n",
    "turma = pd.read_csv('../data/turma.csv',sep=';')\n",
    "disciplina = pd.read_csv('../data/disciplina.csv',sep=';')\n",
    "grade = pd.read_csv('../data/grade.csv',sep=';')\n",
    "avaliacao = pd.read_csv('../data/avaliacao.csv',sep=';')\n",
    "sentimento = pd.read_csv('../data/sentimento.csv',sep=';')\n",
    "usuario = pd.read_csv('../data/usuario.csv',sep=';')\n",
    "instituicao = pd.read_csv('../data/instituicao.csv',sep=';')"
   ]
  },
  {
   "cell_type": "markdown",
   "metadata": {},
   "source": [
    "Passar dos dataframes para listas na ordem correta do banco de dados"
   ]
  },
  {
   "cell_type": "code",
   "execution_count": 26,
   "metadata": {},
   "outputs": [],
   "source": [
    "data_aluno = []\n",
    "for i in range(0,len(aluno)):\n",
    "    tuple = (int(aluno['id_aluno'][i]), str(aluno['nome'][i]), \n",
    "            (str(aluno['genero'][i])), str(aluno['data_nascimento'][i]),\n",
    "            (int(aluno['id_instituicao'][i])), int(aluno['id_usuario'][i]))\n",
    "    data_aluno.append(tuple)\n",
    "\n",
    "data_professor = []\n",
    "for i in range(0,len(professor)):\n",
    "    tuple = (int(professor['id_professor'][i]), str(professor['nome'][i]), \n",
    "        (str(professor['genero'][i])), str(professor['data_nascimento'][i]),\n",
    "        (int(professor['id_instituicao'][i])), int(professor['id_usuario'][i]))\n",
    "    data_professor.append(tuple)\n",
    "\n",
    "data_assunto = []\n",
    "for i in range(0,len(assunto)):\n",
    "    tuple = (int(assunto['id_assunto'][i]), str(assunto['nome'][i]))\n",
    "    data_assunto.append(tuple)\n",
    "\n",
    "data_turma = []\n",
    "for i in range(0,len(turma)):\n",
    "    tuple = (int(turma['id_turma'][i]), str(turma['curso'][i]), \n",
    "    int(turma['periodo'][i]),str(turma['tag'][i]))\n",
    "    data_turma.append(tuple)\n",
    "\n",
    "data_disciplina = []\n",
    "for i in range(0,len(disciplina)):\n",
    "    tuple = (int(disciplina['id_disciplina'][i]),str(disciplina['carga_horaria'][i]),\n",
    "    int(disciplina['id_assunto'][i]), int(disciplina['id_professor'][i]),int(disciplina['id_turma'][i]))\n",
    "    data_disciplina.append(tuple)\n",
    "\n",
    "data_grade = []\n",
    "for i in range(0,len(grade)):\n",
    "    tuple = (int(grade['id_grade'][i]), int(grade['id_aluno'][i]), \n",
    "    int(grade['id_disciplina'][i]))\n",
    "    data_grade.append(tuple)\n",
    "\n",
    "data_sentimento = []\n",
    "for i in range(0,len(sentimento )):\n",
    "    tuple = (int(sentimento ['id_sentimento'][i]), str(sentimento ['nome'][i]), \n",
    "    str(sentimento ['carater'][i]))\n",
    "    data_sentimento.append(tuple)\n",
    "\n",
    "\n",
    "data_avaliacao = []\n",
    "for i in range(0,len(avaliacao )):\n",
    "    tuple = (int(avaliacao ['id_avaliacao'][i]),str(avaliacao ['comentario'][i]),\n",
    "    int(avaliacao ['nivel_conhecimento'][i]), int(avaliacao ['intensidade'][i]),\n",
    "    str(avaliacao ['data'][i]),int(avaliacao ['id_aluno'][i]), \n",
    "    int(avaliacao ['id_disciplina'][i]), int(avaliacao ['id_sentimento'][i]))\n",
    "    data_avaliacao.append(tuple)\n",
    "\n",
    "data_instituicao = []\n",
    "for i in range(0,len(instituicao )):\n",
    "    tuple = (int(instituicao['id_intituicao'][i]), str(instituicao ['nome'][i]),\n",
    "    int(instituicao['id_usuario'][i]))\n",
    "    data_instituicao.append(tuple)\n",
    "\n",
    "data_usuario = []\n",
    "for i in range(0,len(usuario )):\n",
    "    tuple = (int(usuario['id_usuario'][i]),str(usuario['login'][i]),str(usuario['senha'][i]))\n",
    "    data_usuario.append(tuple)"
   ]
  },
  {
   "cell_type": "markdown",
   "metadata": {},
   "source": [
    "Faço o insert no banco de dados"
   ]
  },
  {
   "cell_type": "code",
   "execution_count": 27,
   "metadata": {},
   "outputs": [
    {
     "data": {
      "text/plain": [
       "<sqlite3.Cursor at 0x262c870fc70>"
      ]
     },
     "execution_count": 27,
     "metadata": {},
     "output_type": "execute_result"
    }
   ],
   "source": [
    "cur.executemany('INSERT INTO base_usuario VALUES (?,?,?)', data_usuario)\n",
    "cur.executemany('INSERT INTO base_instituicao VALUES (?,?,?)', data_instituicao)\n",
    "cur.executemany('INSERT INTO base_aluno VALUES (?,?,?,?,?,?)', data_aluno)\n",
    "cur.executemany('INSERT INTO base_professor VALUES (?,?,?,?,?,?)', data_professor)\n",
    "cur.executemany('INSERT INTO base_assunto VALUES (?,?)', data_assunto)\n",
    "cur.executemany('INSERT INTO base_turma VALUES (?,?,?,?)', data_turma)\n",
    "cur.executemany('INSERT INTO base_disciplina VALUES (?,?,?,?,?)', data_disciplina)\n",
    "cur.executemany('INSERT INTO base_grade VALUES (?,?,?)', data_grade)\n",
    "cur.executemany('INSERT INTO base_sentimentos VALUES (?,?,?)', data_sentimento)\n",
    "cur.executemany('INSERT INTO base_avaliacao VALUES (?,?,?,?,?,?,?,?)', data_avaliacao)\n"
   ]
  },
  {
   "cell_type": "markdown",
   "metadata": {},
   "source": [
    "Salvo as mudanças e fecho a conexão"
   ]
  },
  {
   "cell_type": "code",
   "execution_count": 28,
   "metadata": {},
   "outputs": [],
   "source": [
    "conn.commit()\n",
    "conn.close()"
   ]
  }
 ],
 "metadata": {
  "kernelspec": {
   "display_name": "Python 3.9.5 64-bit",
   "language": "python",
   "name": "python3"
  },
  "language_info": {
   "codemirror_mode": {
    "name": "ipython",
    "version": 3
   },
   "file_extension": ".py",
   "mimetype": "text/x-python",
   "name": "python",
   "nbconvert_exporter": "python",
   "pygments_lexer": "ipython3",
   "version": "3.9.5"
  },
  "orig_nbformat": 4,
  "vscode": {
   "interpreter": {
    "hash": "221dbbaf11893d1f3caaf3b1e9f01ebeba79409d81b67b48d3f5449277b93f24"
   }
  }
 },
 "nbformat": 4,
 "nbformat_minor": 2
}
