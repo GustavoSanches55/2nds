{
 "cells": [
  {
   "cell_type": "code",
   "execution_count": 25,
   "metadata": {},
   "outputs": [],
   "source": [
    "import sqlite3\n",
    "import pandas as pd"
   ]
  },
  {
   "cell_type": "code",
   "execution_count": 37,
   "metadata": {},
   "outputs": [],
   "source": [
    "conn = sqlite3.connect('../silvia/db.sqlite3')"
   ]
  },
  {
   "cell_type": "code",
   "execution_count": 38,
   "metadata": {},
   "outputs": [],
   "source": [
    "cur = conn.cursor()"
   ]
  },
  {
   "cell_type": "code",
   "execution_count": 39,
   "metadata": {},
   "outputs": [
    {
     "name": "stdout",
     "output_type": "stream",
     "text": [
      "('django_migrations',)\n",
      "('auth_group_permissions',)\n",
      "('auth_user_groups',)\n",
      "('auth_user_user_permissions',)\n",
      "('django_admin_log',)\n",
      "('django_content_type',)\n",
      "('auth_permission',)\n",
      "('auth_group',)\n",
      "('auth_user',)\n",
      "('base_assunto',)\n",
      "('base_sentimentos',)\n",
      "('base_turma',)\n",
      "('base_usuario',)\n",
      "('base_professor',)\n",
      "('base_instituicao',)\n",
      "('base_grade',)\n",
      "('base_disciplina',)\n",
      "('base_avaliacao',)\n",
      "('base_aluno',)\n",
      "('django_session',)\n"
     ]
    }
   ],
   "source": [
    "query = '''\n",
    "SELECT name\n",
    "FROM sqlite_master \n",
    "WHERE type ='table' AND name NOT LIKE 'sqlite_%';\n",
    "'''\n",
    "\n",
    "cur.execute(query)\n",
    "for c in cur.fetchall():\n",
    "    print(c)"
   ]
  },
  {
   "cell_type": "code",
   "execution_count": 40,
   "metadata": {},
   "outputs": [
    {
     "name": "stdout",
     "output_type": "stream",
     "text": [
      "(1, 'Flavio', 'masculino', '13/10/2002', 1, 2)\n",
      "(2, 'Carlos', 'masculino', '08/10/2002', 1, 3)\n",
      "(3, 'Lucas', 'masculino', '28/09/2002', 1, 4)\n",
      "(4, 'Jorge', 'masculino', '03/01/2003', 1, 5)\n",
      "(5, 'Renata', 'feminino', '21/08/2002', 1, 6)\n",
      "(6, 'Flavia', 'feminino', '26/08/2002', 1, 7)\n",
      "(7, 'Amanda', 'feminino', '04/07/2002', 1, 8)\n",
      "(8, 'Ana Julia', 'feminino', '08/01/2003', 1, 9)\n",
      "(9, 'Julia', 'feminino', '21/06/2002', 1, 10)\n",
      "(10, 'Bruno', 'masculino', '04/06/2002', 1, 11)\n",
      "(11, 'Breno', 'masculino', '03/03/2003', 1, 12)\n",
      "(12, 'Daniela', 'feminino', '18/10/2002', 1, 13)\n",
      "(13, 'Rafaela', 'feminino', '04/11/2002', 1, 14)\n",
      "(14, 'Isabela', 'feminino', '08/12/2003', 1, 15)\n",
      "(15, 'Maria Eduarda', 'feminino', '21/12/2002', 1, 16)\n"
     ]
    }
   ],
   "source": [
    "cur.execute(\"SELECT * FROM base_aluno\")\n",
    "for c in cur.fetchmany(15):\n",
    "    print(c)"
   ]
  },
  {
   "cell_type": "markdown",
   "metadata": {},
   "source": [
    "# deletar dados existentes\n"
   ]
  },
  {
   "cell_type": "code",
   "execution_count": 41,
   "metadata": {},
   "outputs": [
    {
     "data": {
      "text/plain": [
       "<sqlite3.Cursor at 0x20b316688f0>"
      ]
     },
     "execution_count": 41,
     "metadata": {},
     "output_type": "execute_result"
    }
   ],
   "source": [
    "cur.execute('DELETE FROM base_aluno')\n",
    "cur.execute('DELETE FROM base_professor')\n",
    "cur.execute('DELETE FROM base_assunto')\n",
    "cur.execute('DELETE FROM base_turma')\n",
    "cur.execute('DELETE FROM base_disciplina')\n",
    "cur.execute('DELETE FROM base_grade')\n",
    "cur.execute('DELETE FROM base_avaliacao')\n",
    "cur.execute('DELETE FROM base_sentimentos')\n",
    "cur.execute('DELETE FROM base_usuario')\n",
    "cur.execute('DELETE FROM base_instituicao')\n"
   ]
  },
  {
   "cell_type": "markdown",
   "metadata": {},
   "source": [
    "# adicionar dados\n"
   ]
  },
  {
   "cell_type": "code",
   "execution_count": 42,
   "metadata": {},
   "outputs": [],
   "source": [
    "aluno = pd.read_csv('../data/aluno.csv',sep=';')\n",
    "professor = pd.read_csv('../data/professor.csv',sep=';')\n",
    "assunto = pd.read_csv('../data/assunto.csv',sep=';')\n",
    "turma = pd.read_csv('../data/turma.csv',sep=';')\n",
    "disciplina = pd.read_csv('../data/disciplina.csv',sep=';')\n",
    "grade = pd.read_csv('../data/grade.csv',sep=';')\n",
    "avaliacao = pd.read_csv('../data/avaliacao.csv',sep=';')\n",
    "sentimento = pd.read_csv('../data/sentimento.csv',sep=';')\n",
    "usuario = pd.read_csv('../data/usuario.csv',sep=';')\n",
    "instituicao = pd.read_csv('../data/instituicao.csv',sep=';')"
   ]
  },
  {
   "cell_type": "code",
   "execution_count": 43,
   "metadata": {},
   "outputs": [],
   "source": [
    "data_aluno = []\n",
    "for i in range(0,len(aluno)):\n",
    "    tuple = (int(aluno['id_aluno'][i]), str(aluno['nome'][i]), \n",
    "            (str(aluno['genero'][i])), str(aluno['data_nascimento'][i]),\n",
    "            (int(aluno['id_instituicao'][i])), int(aluno['id_usuario'][i]))\n",
    "    data_aluno.append(tuple)\n",
    "\n",
    "data_professor = []\n",
    "for i in range(0,len(professor)):\n",
    "    tuple = (int(professor['id_professor'][i]), str(professor['nome'][i]), \n",
    "        (str(professor['genero'][i])), str(professor['data_nascimento'][i]),\n",
    "        (int(professor['id_instituicao'][i])), int(professor['id_usuario'][i]))\n",
    "    data_professor.append(tuple)\n",
    "\n",
    "data_assunto = []\n",
    "for i in range(0,len(assunto)):\n",
    "    tuple = (int(assunto['id_assunto'][i]), str(assunto['nome'][i]))\n",
    "    data_assunto.append(tuple)\n",
    "\n",
    "data_turma = []\n",
    "for i in range(0,len(turma)):\n",
    "    tuple = (int(turma['id_turma'][i]), str(turma['curso'][i]), \n",
    "    int(turma['periodo'][i]),str(turma['tag'][i]))\n",
    "    data_turma.append(tuple)\n",
    "\n",
    "data_disciplina = []\n",
    "for i in range(0,len(disciplina)):\n",
    "    tuple = (int(disciplina['id_disciplina'][i]),str(disciplina['carga_horaria'][i]),\n",
    "    int(disciplina['id_assunto'][i]), int(disciplina['id_professor'][i]),int(disciplina['id_turma'][i]))\n",
    "    data_disciplina.append(tuple)\n",
    "\n",
    "data_grade = []\n",
    "for i in range(0,len(grade)):\n",
    "    tuple = (int(grade['id_grade'][i]), int(grade['id_aluno'][i]), \n",
    "    int(grade['id_disciplina'][i]))\n",
    "    data_grade.append(tuple)\n",
    "\n",
    "data_sentimento = []\n",
    "for i in range(0,len(sentimento )):\n",
    "    tuple = (int(sentimento ['id_sentimento'][i]), str(sentimento ['nome'][i]), \n",
    "    str(sentimento ['carater'][i]))\n",
    "    data_sentimento.append(tuple)\n",
    "\n",
    "\n",
    "data_avaliacao = []\n",
    "for i in range(0,len(avaliacao )):\n",
    "    tuple = (int(avaliacao ['id_avaliacao'][i]),str(avaliacao ['comentario'][i]),\n",
    "    int(avaliacao ['nivel_conhecimento'][i]), int(avaliacao ['intensidade'][i]),\n",
    "    str(avaliacao ['data'][i]),int(avaliacao ['id_aluno'][i]), \n",
    "    int(avaliacao ['id_disciplina'][i]), int(avaliacao ['id_sentimento'][i]))\n",
    "    data_avaliacao.append(tuple)\n",
    "\n",
    "data_instituicao = []\n",
    "for i in range(0,len(instituicao )):\n",
    "    tuple = (int(instituicao['id_intituicao'][i]), str(instituicao ['nome'][i]),\n",
    "    int(instituicao['id_usuario'][i]))\n",
    "    data_instituicao.append(tuple)\n",
    "\n",
    "data_usuario = []\n",
    "for i in range(0,len(usuario )):\n",
    "    tuple = (int(usuario['id_usuario'][i]),str(usuario['login'][i]),str(usuario['senha'][i]))\n",
    "    data_usuario.append(tuple)"
   ]
  },
  {
   "cell_type": "code",
   "execution_count": 44,
   "metadata": {},
   "outputs": [
    {
     "data": {
      "text/plain": [
       "<sqlite3.Cursor at 0x20b316688f0>"
      ]
     },
     "execution_count": 44,
     "metadata": {},
     "output_type": "execute_result"
    }
   ],
   "source": [
    "cur.executemany('INSERT INTO base_usuario VALUES (?,?,?)', data_usuario)\n",
    "cur.executemany('INSERT INTO base_instituicao VALUES (?,?,?)', data_instituicao)\n",
    "cur.executemany('INSERT INTO base_aluno VALUES (?,?,?,?,?,?)', data_aluno)\n",
    "cur.executemany('INSERT INTO base_professor VALUES (?,?,?,?,?,?)', data_professor)\n",
    "cur.executemany('INSERT INTO base_assunto VALUES (?,?)', data_assunto)\n",
    "cur.executemany('INSERT INTO base_turma VALUES (?,?,?,?)', data_turma)\n",
    "cur.executemany('INSERT INTO base_disciplina VALUES (?,?,?,?,?)', data_disciplina)\n",
    "cur.executemany('INSERT INTO base_grade VALUES (?,?,?)', data_grade)\n",
    "cur.executemany('INSERT INTO base_sentimentos VALUES (?,?,?)', data_sentimento)\n",
    "cur.executemany('INSERT INTO base_avaliacao VALUES (?,?,?,?,?,?,?,?)', data_avaliacao)\n"
   ]
  },
  {
   "cell_type": "code",
   "execution_count": 45,
   "metadata": {},
   "outputs": [
    {
     "name": "stdout",
     "output_type": "stream",
     "text": [
      "(1, 'nan', 9, 1, '11/05/2022', 1, 1, 1)\n",
      "(2, 'nan', 1, 3, '12/05/2022', 2, 1, 2)\n",
      "(3, 'nan', 6, 4, '13/05/2022', 3, 1, 3)\n",
      "(4, 'nan', 6, 3, '14/05/2022', 4, 1, 4)\n",
      "(5, 'nan', 9, 5, '15/05/2022', 5, 1, 1)\n",
      "(6, 'nan', 2, 5, '16/05/2022', 6, 1, 1)\n",
      "(7, 'nan', 2, 5, '17/05/2022', 7, 1, 2)\n",
      "(8, 'nan', 7, 5, '18/05/2022', 8, 1, 2)\n",
      "(9, 'nan', 5, 4, '19/05/2022', 9, 1, 3)\n",
      "(10, 'nan', 7, 5, '20/05/2022', 10, 1, 4)\n",
      "(11, 'nan', 7, 3, '21/05/2022', 11, 1, 4)\n",
      "(12, 'nan', 10, 2, '22/05/2022', 12, 1, 4)\n",
      "(13, 'nan', 2, 4, '23/05/2022', 13, 1, 2)\n",
      "(14, 'nan', 5, 5, '24/05/2022', 14, 1, 1)\n",
      "(15, 'nan', 2, 3, '25/05/2022', 15, 1, 4)\n",
      "(16, 'nan', 1, 2, '26/05/2022', 16, 1, 3)\n",
      "(17, 'nan', 9, 5, '27/05/2022', 17, 1, 3)\n",
      "(18, 'nan', 10, 1, '28/05/2022', 18, 1, 3)\n",
      "(19, 'nan', 0, 3, '29/05/2022', 19, 1, 4)\n",
      "(20, 'nan', 5, 2, '30/05/2022', 20, 1, 1)\n",
      "(21, 'nan', 7, 5, '31/05/2022', 21, 1, 2)\n",
      "(22, 'nan', 2, 4, '01/06/2022', 22, 1, 2)\n",
      "(23, 'nan', 0, 5, '02/06/2022', 23, 1, 3)\n",
      "(24, 'nan', 9, 2, '03/06/2022', 24, 1, 4)\n",
      "(25, 'nan', 7, 4, '12/05/2022', 1, 2, 4)\n",
      "(26, 'nan', 5, 1, '12/05/2022', 2, 2, 2)\n",
      "(27, 'nan', 3, 3, '12/05/2022', 3, 2, 2)\n",
      "(28, 'nan', 8, 3, '12/05/2022', 4, 2, 2)\n",
      "(29, 'nan', 8, 4, '12/05/2022', 5, 2, 2)\n",
      "(30, 'nan', 2, 3, '12/05/2022', 6, 2, 2)\n",
      "(31, 'nan', 6, 5, '12/05/2022', 7, 2, 1)\n",
      "(32, 'nan', 3, 5, '12/05/2022', 8, 2, 2)\n",
      "(33, 'nan', 3, 1, '12/05/2022', 9, 2, 3)\n",
      "(34, 'nan', 0, 3, '12/05/2022', 10, 2, 4)\n",
      "(35, 'nan', 8, 3, '12/05/2022', 11, 2, 2)\n",
      "(36, 'nan', 6, 5, '12/05/2022', 12, 2, 1)\n",
      "(37, 'nan', 7, 5, '12/05/2022', 13, 2, 2)\n",
      "(38, 'nan', 7, 3, '12/05/2022', 14, 2, 2)\n",
      "(39, 'nan', 3, 1, '12/05/2022', 15, 2, 3)\n",
      "(40, 'nan', 7, 3, '12/05/2022', 16, 2, 1)\n",
      "(41, 'nan', 5, 2, '12/05/2022', 17, 2, 4)\n",
      "(42, 'nan', 7, 4, '12/05/2022', 18, 2, 2)\n",
      "(43, 'nan', 1, 2, '12/05/2022', 19, 2, 2)\n",
      "(44, 'nan', 0, 1, '12/05/2022', 20, 2, 1)\n",
      "(45, 'nan', 6, 1, '12/05/2022', 21, 2, 3)\n",
      "(46, 'nan', 0, 1, '12/05/2022', 22, 2, 2)\n",
      "(47, 'nan', 5, 5, '12/05/2022', 23, 2, 2)\n",
      "(48, 'nan', 4, 5, '12/05/2022', 24, 2, 2)\n",
      "(49, 'nan', 10, 2, '13/05/2022', 1, 3, 4)\n",
      "(50, 'nan', 1, 1, '13/05/2022', 2, 3, 2)\n",
      "(51, 'nan', 10, 1, '13/05/2022', 3, 3, 3)\n",
      "(52, 'nan', 1, 4, '13/05/2022', 4, 3, 3)\n",
      "(53, 'nan', 2, 1, '13/05/2022', 5, 3, 3)\n",
      "(54, 'nan', 7, 2, '13/05/2022', 6, 3, 1)\n",
      "(55, 'nan', 7, 1, '13/05/2022', 7, 3, 3)\n",
      "(56, 'nan', 5, 3, '13/05/2022', 8, 3, 1)\n",
      "(57, 'nan', 1, 5, '13/05/2022', 9, 3, 2)\n",
      "(58, 'nan', 7, 2, '13/05/2022', 10, 3, 1)\n",
      "(59, 'nan', 3, 3, '13/05/2022', 11, 3, 3)\n",
      "(60, 'nan', 5, 3, '13/05/2022', 12, 3, 1)\n",
      "(61, 'nan', 9, 5, '13/05/2022', 13, 3, 3)\n",
      "(62, 'nan', 4, 3, '13/05/2022', 14, 3, 2)\n",
      "(63, 'nan', 3, 1, '13/05/2022', 15, 3, 1)\n",
      "(64, 'nan', 1, 3, '13/05/2022', 16, 3, 3)\n",
      "(65, 'nan', 0, 2, '13/05/2022', 17, 3, 4)\n",
      "(66, 'nan', 9, 2, '13/05/2022', 18, 3, 1)\n",
      "(67, 'nan', 9, 4, '13/05/2022', 19, 3, 2)\n",
      "(68, 'nan', 6, 5, '13/05/2022', 20, 3, 3)\n",
      "(69, 'nan', 9, 1, '13/05/2022', 21, 3, 3)\n",
      "(70, 'nan', 9, 2, '13/05/2022', 22, 3, 3)\n",
      "(71, 'nan', 9, 2, '13/05/2022', 23, 3, 1)\n",
      "(72, 'nan', 6, 2, '13/05/2022', 24, 3, 1)\n",
      "(73, 'nan', 5, 2, '14/05/2022', 1, 8, 4)\n",
      "(74, 'nan', 0, 5, '14/05/2022', 2, 8, 2)\n",
      "(75, 'nan', 7, 4, '14/05/2022', 3, 8, 3)\n",
      "(76, 'nan', 7, 2, '14/05/2022', 4, 8, 1)\n",
      "(77, 'nan', 2, 2, '14/05/2022', 5, 8, 2)\n",
      "(78, 'nan', 8, 1, '14/05/2022', 6, 8, 3)\n",
      "(79, 'nan', 2, 2, '14/05/2022', 7, 8, 3)\n",
      "(80, 'nan', 6, 4, '14/05/2022', 8, 8, 3)\n",
      "(81, 'nan', 10, 5, '14/05/2022', 9, 8, 2)\n",
      "(82, 'nan', 6, 2, '14/05/2022', 10, 8, 1)\n",
      "(83, 'nan', 5, 2, '14/05/2022', 11, 8, 4)\n",
      "(84, 'nan', 7, 5, '14/05/2022', 12, 8, 4)\n",
      "(85, 'nan', 3, 5, '14/05/2022', 13, 8, 4)\n",
      "(86, 'nan', 9, 2, '14/05/2022', 14, 8, 1)\n",
      "(87, 'nan', 7, 5, '14/05/2022', 15, 8, 2)\n",
      "(88, 'nan', 2, 3, '14/05/2022', 16, 8, 2)\n",
      "(89, 'nan', 0, 4, '14/05/2022', 17, 8, 2)\n",
      "(90, 'nan', 5, 5, '14/05/2022', 18, 8, 2)\n",
      "(91, 'nan', 8, 4, '14/05/2022', 19, 8, 2)\n",
      "(92, 'nan', 4, 1, '14/05/2022', 20, 8, 2)\n",
      "(93, 'nan', 8, 1, '14/05/2022', 21, 8, 2)\n",
      "(94, 'nan', 7, 4, '14/05/2022', 22, 8, 2)\n",
      "(95, 'nan', 2, 1, '14/05/2022', 23, 8, 2)\n",
      "(96, 'nan', 7, 4, '14/05/2022', 24, 8, 2)\n",
      "(97, 'nan', 8, 4, '15/05/2022', 1, 4, 1)\n",
      "(98, 'nan', 6, 1, '15/05/2022', 2, 4, 1)\n",
      "(99, 'nan', 0, 4, '15/05/2022', 3, 4, 1)\n",
      "(100, 'nan', 4, 2, '15/05/2022', 4, 4, 1)\n",
      "(101, 'nan', 4, 1, '15/05/2022', 5, 4, 1)\n",
      "(102, 'nan', 1, 3, '15/05/2022', 6, 4, 1)\n",
      "(103, 'nan', 1, 1, '15/05/2022', 7, 4, 3)\n",
      "(104, 'nan', 2, 2, '15/05/2022', 8, 4, 3)\n",
      "(105, 'nan', 3, 1, '15/05/2022', 9, 4, 1)\n",
      "(106, 'nan', 9, 5, '15/05/2022', 10, 4, 4)\n",
      "(107, 'nan', 9, 1, '15/05/2022', 11, 4, 1)\n",
      "(108, 'nan', 9, 5, '15/05/2022', 12, 4, 1)\n",
      "(109, 'nan', 2, 5, '15/05/2022', 13, 4, 1)\n",
      "(110, 'nan', 1, 1, '15/05/2022', 14, 4, 1)\n",
      "(111, 'nan', 6, 5, '15/05/2022', 15, 4, 1)\n",
      "(112, 'nan', 1, 4, '15/05/2022', 16, 4, 3)\n",
      "(113, 'nan', 6, 5, '15/05/2022', 17, 4, 4)\n",
      "(114, 'nan', 0, 3, '15/05/2022', 18, 4, 1)\n",
      "(115, 'nan', 8, 1, '15/05/2022', 19, 4, 2)\n",
      "(116, 'nan', 7, 1, '15/05/2022', 20, 4, 3)\n",
      "(117, 'nan', 9, 1, '15/05/2022', 21, 4, 3)\n",
      "(118, 'nan', 10, 2, '15/05/2022', 22, 4, 3)\n",
      "(119, 'nan', 10, 2, '15/05/2022', 23, 4, 1)\n",
      "(120, 'nan', 0, 5, '15/05/2022', 24, 4, 1)\n",
      "(121, 'nan', 9, 1, '16/05/2022', 1, 5, 1)\n",
      "(122, 'nan', 3, 2, '16/05/2022', 2, 5, 4)\n",
      "(123, 'nan', 2, 5, '16/05/2022', 3, 5, 4)\n",
      "(124, 'nan', 3, 3, '16/05/2022', 4, 5, 4)\n",
      "(125, 'nan', 4, 1, '16/05/2022', 5, 5, 4)\n",
      "(126, 'nan', 7, 5, '16/05/2022', 6, 5, 4)\n",
      "(127, 'nan', 7, 2, '16/05/2022', 7, 5, 2)\n",
      "(128, 'nan', 2, 3, '16/05/2022', 8, 5, 4)\n",
      "(129, 'nan', 8, 5, '16/05/2022', 9, 5, 4)\n",
      "(130, 'nan', 8, 4, '16/05/2022', 10, 5, 3)\n",
      "(131, 'nan', 10, 3, '16/05/2022', 11, 5, 4)\n",
      "(132, 'nan', 9, 3, '16/05/2022', 12, 5, 4)\n",
      "(133, 'nan', 10, 5, '16/05/2022', 13, 5, 2)\n",
      "(134, 'nan', 0, 4, '16/05/2022', 14, 5, 3)\n",
      "(135, 'nan', 8, 3, '16/05/2022', 15, 5, 4)\n",
      "(136, 'nan', 6, 5, '16/05/2022', 16, 5, 4)\n",
      "(137, 'nan', 7, 5, '16/05/2022', 17, 5, 2)\n",
      "(138, 'nan', 2, 1, '16/05/2022', 18, 5, 3)\n",
      "(139, 'nan', 5, 5, '16/05/2022', 19, 5, 4)\n",
      "(140, 'nan', 10, 2, '16/05/2022', 20, 5, 4)\n",
      "(141, 'nan', 1, 5, '16/05/2022', 21, 5, 1)\n",
      "(142, 'nan', 1, 3, '16/05/2022', 22, 5, 2)\n",
      "(143, 'nan', 2, 2, '16/05/2022', 23, 5, 4)\n",
      "(144, 'nan', 5, 2, '16/05/2022', 24, 5, 2)\n",
      "(145, 'nan', 4, 2, '17/05/2022', 1, 6, 3)\n",
      "(146, 'nan', 8, 2, '17/05/2022', 2, 6, 3)\n",
      "(147, 'nan', 10, 2, '17/05/2022', 3, 6, 2)\n",
      "(148, 'nan', 1, 4, '17/05/2022', 4, 6, 2)\n",
      "(149, 'nan', 3, 1, '17/05/2022', 5, 6, 3)\n",
      "(150, 'nan', 4, 2, '17/05/2022', 6, 6, 1)\n",
      "(151, 'nan', 3, 5, '17/05/2022', 7, 6, 4)\n",
      "(152, 'nan', 4, 5, '17/05/2022', 8, 6, 3)\n",
      "(153, 'nan', 4, 2, '17/05/2022', 9, 6, 3)\n",
      "(154, 'nan', 2, 5, '17/05/2022', 10, 6, 3)\n",
      "(155, 'nan', 1, 1, '17/05/2022', 11, 6, 3)\n",
      "(156, 'nan', 7, 4, '17/05/2022', 12, 6, 3)\n",
      "(157, 'nan', 10, 4, '17/05/2022', 13, 6, 1)\n",
      "(158, 'nan', 1, 2, '17/05/2022', 14, 6, 2)\n",
      "(159, 'nan', 5, 2, '17/05/2022', 15, 6, 3)\n",
      "(160, 'nan', 5, 1, '17/05/2022', 16, 6, 3)\n",
      "(161, 'nan', 8, 5, '17/05/2022', 17, 6, 3)\n",
      "(162, 'nan', 2, 2, '17/05/2022', 18, 6, 3)\n",
      "(163, 'nan', 3, 4, '17/05/2022', 19, 6, 1)\n",
      "(164, 'nan', 9, 3, '17/05/2022', 20, 6, 4)\n",
      "(165, 'nan', 7, 2, '17/05/2022', 21, 6, 3)\n",
      "(166, 'nan', 9, 5, '17/05/2022', 22, 6, 3)\n",
      "(167, 'nan', 7, 2, '17/05/2022', 23, 6, 3)\n",
      "(168, 'nan', 6, 2, '17/05/2022', 24, 6, 2)\n",
      "(169, 'nan', 2, 1, '18/05/2022', 1, 7, 4)\n",
      "(170, 'nan', 6, 4, '18/05/2022', 2, 7, 4)\n",
      "(171, 'nan', 6, 4, '18/05/2022', 3, 7, 4)\n",
      "(172, 'nan', 3, 2, '18/05/2022', 4, 7, 2)\n",
      "(173, 'nan', 10, 2, '18/05/2022', 5, 7, 3)\n",
      "(174, 'nan', 4, 3, '18/05/2022', 6, 7, 1)\n",
      "(175, 'nan', 8, 4, '18/05/2022', 7, 7, 4)\n",
      "(176, 'nan', 3, 2, '18/05/2022', 8, 7, 2)\n",
      "(177, 'nan', 4, 2, '18/05/2022', 9, 7, 4)\n",
      "(178, 'nan', 7, 2, '18/05/2022', 10, 7, 2)\n",
      "(179, 'nan', 10, 4, '18/05/2022', 11, 7, 4)\n",
      "(180, 'nan', 10, 1, '18/05/2022', 12, 7, 2)\n",
      "(181, 'nan', 10, 4, '18/05/2022', 13, 7, 4)\n",
      "(182, 'nan', 3, 2, '18/05/2022', 14, 7, 2)\n",
      "(183, 'nan', 5, 5, '18/05/2022', 15, 7, 4)\n",
      "(184, 'nan', 0, 4, '18/05/2022', 16, 7, 2)\n",
      "(185, 'nan', 6, 4, '18/05/2022', 17, 7, 4)\n",
      "(186, 'nan', 4, 3, '18/05/2022', 18, 7, 2)\n",
      "(187, 'nan', 10, 4, '18/05/2022', 19, 7, 4)\n",
      "(188, 'nan', 5, 3, '18/05/2022', 20, 7, 2)\n",
      "(189, 'nan', 8, 3, '18/05/2022', 21, 7, 4)\n",
      "(190, 'nan', 0, 1, '18/05/2022', 22, 7, 2)\n",
      "(191, 'nan', 10, 5, '18/05/2022', 23, 7, 4)\n",
      "(192, 'nan', 3, 3, '18/05/2022', 24, 7, 2)\n"
     ]
    }
   ],
   "source": [
    "cur.execute(\"SELECT * FROM base_avaliacao\")\n",
    "for c in cur.fetchmany(500):\n",
    "    print(c)"
   ]
  },
  {
   "cell_type": "code",
   "execution_count": 46,
   "metadata": {},
   "outputs": [],
   "source": [
    "conn.commit()"
   ]
  },
  {
   "cell_type": "code",
   "execution_count": 47,
   "metadata": {},
   "outputs": [],
   "source": [
    "conn.close()"
   ]
  },
  {
   "cell_type": "code",
   "execution_count": null,
   "metadata": {},
   "outputs": [],
   "source": []
  },
  {
   "cell_type": "code",
   "execution_count": null,
   "metadata": {},
   "outputs": [],
   "source": []
  }
 ],
 "metadata": {
  "kernelspec": {
   "display_name": "Python 3.9.5 64-bit",
   "language": "python",
   "name": "python3"
  },
  "language_info": {
   "codemirror_mode": {
    "name": "ipython",
    "version": 3
   },
   "file_extension": ".py",
   "mimetype": "text/x-python",
   "name": "python",
   "nbconvert_exporter": "python",
   "pygments_lexer": "ipython3",
   "version": "3.9.5"
  },
  "orig_nbformat": 4,
  "vscode": {
   "interpreter": {
    "hash": "221dbbaf11893d1f3caaf3b1e9f01ebeba79409d81b67b48d3f5449277b93f24"
   }
  }
 },
 "nbformat": 4,
 "nbformat_minor": 2
}
